{
 "cells": [
  {
   "cell_type": "markdown",
   "metadata": {},
   "source": [
    "# Introduction to Python\n",
    "Welcome to COMP9417!  Throughout this course, you will be introduced to a variety of machine learning algorithms.  These labs are intended to give you practical experience with setting up and running these algorithms on realistic data sets.\n",
    "\n",
    "There are a few concepts you should have some understanding of to complete this work:\n",
    "* <a href=\"https://www.tutorialspoint.com/python/python_basic_syntax.htm\">Basic Python</a>\n",
    "* <a href=\"https://onlinestatbook.com/2/regression/intro.html\">Linear Regression</a>\n",
    "\n",
    "##  Some practice for machine learning packages\n",
    "For the lab work in this course, we will be using the Python language, which you may or may not have used before. If not, it may help you to do some independent study to pick up the basics. However, this is not a Python course - the focus is on applying practical machine learning algorithms, and Python is simply a tool for us to do so.\n",
    "\n",
    "* <b>Numpy</b> is a popular Numerical Python data processing library. \n",
    "\n",
    "* <b>SciPy</b>  is an open-source software for scientific computing and covers the disciplines of mathematics, science and engineering. \n",
    "\n",
    "* <b>Pandas</b>  is a data storage and analysis library that primarily provides utilities to deal with structured records, normally stored as CSVs or tables.\n",
    "\n",
    "* <b>Scikit-Learn</b> is a Python library for high performance Machine Learning.\n",
    "\n",
    "* <b>Matplotlib</b> is a Python plotting library that allows you to make interactive plots.\n",
    "\n",
    "* <b>Seaborn</b>  is a Python data visualization library based on matplotlib, providing a high-level interface for drawing attractive and informative statistical graphics.\n",
    "\n",
    "* <b>TensorFlow</b>  is a deep learning library developed by Google."
   ]
  },
  {
   "cell_type": "markdown",
   "metadata": {},
   "source": [
    "### Import all the packages that we will learn or practice\n",
    "Prior to starting, you should check whether you have installed the following packages like numpy, scipy, pandas, scikit-learn, matplotlib and seaborn.\n",
    "\n",
    "If you are using Linux, you can use the following code in a terminal to install these packages:"
   ]
  },
  {
   "cell_type": "markdown",
   "metadata": {},
   "source": [
    "pip install numpy scipy pandas scikit-learn matplotlib seaborn"
   ]
  },
  {
   "cell_type": "markdown",
   "metadata": {},
   "source": [
    "If you are using anaconda, you can use the following code at the Anaconda prompt to install these packages:"
   ]
  },
  {
   "cell_type": "markdown",
   "metadata": {},
   "source": [
    "To run code in the Jupyter environment, you simply click in the code area and type ctrl+enter"
   ]
  },
  {
   "cell_type": "code",
   "execution_count": 5,
   "metadata": {},
   "outputs": [],
   "source": [
    "import numpy as np\n",
    "import scipy\n",
    "import pandas as pd\n",
    "import sklearn as sk\n",
    "import matplotlib.pyplot as plt\n",
    "import seaborn as sns\n",
    "\n",
    "%matplotlib inline"
   ]
  },
  {
   "cell_type": "markdown",
   "metadata": {},
   "source": [
    "## NumPy practice\n",
    "### basic"
   ]
  },
  {
   "cell_type": "code",
   "execution_count": 6,
   "metadata": {
    "tags": []
   },
   "outputs": [
    {
     "output_type": "stream",
     "name": "stdout",
     "text": "list object: \n\n[1, 2, 3, 4]\n\narray object: \n\n[1. 2. 3. 4.]\n\nzero matix: \n\n[[0. 0. 0.]\n [0. 0. 0.]\n [0. 0. 0.]\n [0. 0. 0.]]\n\n"
    }
   ],
   "source": [
    "list_object=[1,2,3,4]                          # Creating a list object\n",
    "array=np.array(list_object)                    # Converting the original list object into numpy array object\n",
    "array=np.array(list_object,dtype=np.float32)   # Specifying data type\n",
    "zeros=np.zeros((4,3))                          # Creating matrix with 4*3 zeros\n",
    "print(\"list object: \\n\")\n",
    "print(list_object)\n",
    "print()\n",
    "print(\"array object: \\n\")\n",
    "print(array)\n",
    "print()\n",
    "print(\"zero matix: \\n\")\n",
    "print(zeros)\n",
    "print()"
   ]
  },
  {
   "cell_type": "markdown",
   "metadata": {},
   "source": [
    "### Operators\n",
    "Arithmetic operators"
   ]
  },
  {
   "cell_type": "code",
   "execution_count": 7,
   "metadata": {
    "tags": []
   },
   "outputs": [
    {
     "output_type": "stream",
     "name": "stdout",
     "text": "z = x + y:  [6 9]\nz = x * y:  [ 8 18]\nz = x / y:  [2. 2.]\n"
    }
   ],
   "source": [
    "x=np.array([4,6])\n",
    "y=np.array([2,3])\n",
    "z = x + y                                # x and y are numpy array with the same size\n",
    "print(\"z = x + y: \",z)\n",
    "z = x * y\n",
    "print(\"z = x * y: \",z)\n",
    "z = x / y\n",
    "print(\"z = x / y: \",z)"
   ]
  },
  {
   "cell_type": "markdown",
   "metadata": {},
   "source": [
    "Comparison operators"
   ]
  },
  {
   "cell_type": "code",
   "execution_count": 8,
   "metadata": {
    "tags": []
   },
   "outputs": [
    {
     "output_type": "stream",
     "name": "stdout",
     "text": "x:  [4 6]\ny:  [2 3]\nz = x > y: [ True  True]\nz = x > 5: [False  True]\n"
    }
   ],
   "source": [
    "print(\"x: \", x)\n",
    "print(\"y: \", y)\n",
    "z = x > y\n",
    "print(\"z = x > y:\", z)\n",
    "z = x > 5\n",
    "print(\"z = x > 5:\", z)"
   ]
  },
  {
   "cell_type": "markdown",
   "metadata": {},
   "source": [
    "Unary operators"
   ]
  },
  {
   "cell_type": "code",
   "execution_count": 10,
   "metadata": {},
   "outputs": [
    {
     "name": "stdout",
     "output_type": "stream",
     "text": [
      "matrix A: \n",
      " [[0 1 2]\n",
      " [3 4 5]\n",
      " [6 7 8]]\n",
      "mean: 4.0\n",
      "col_sum [ 9 12 15]\n",
      "row_sum [ 3 12 21]\n"
     ]
    }
   ],
   "source": [
    "A = np.arange(9).reshape((3,3)) \n",
    "print(\"matrix A: \\n\",A)\n",
    "sum_a = np.mean(A)\n",
    "print(\"mean:\", sum_a)\n",
    "col_sum = A.sum(axis = 0)               # calculates sum of each column\n",
    "print(\"col_sum\", col_sum)\n",
    "row_sum = A.sum(axis = 1)               # calculates sum of each row\n",
    "print(\"row_sum\", row_sum)"
   ]
  },
  {
   "cell_type": "markdown",
   "metadata": {},
   "source": [
    "## Data Exploration Using Pandas\n",
    "loading the diabetes data set and save the data set into csv file, following by loading the csv file."
   ]
  },
  {
   "cell_type": "code",
   "execution_count": 7,
   "metadata": {},
   "outputs": [],
   "source": [
    "from sklearn import datasets\n",
    "\n",
    "# Load the diabetes dataset\n",
    "diabetes = datasets.load_diabetes()\n",
    "\n",
    "# Putting the dataset into pandas DataFrame\n",
    "data = pd.DataFrame(diabetes.data, columns=diabetes.feature_names)\n",
    "target = pd.DataFrame(diabetes.target, columns=[\"target\"])\n",
    "\n",
    "# Combining the two dataframes into one\n",
    "df = pd.concat([data,target], axis=1)\n",
    "\n",
    "# Saving the data frame into \"diabetes.csv\" file \n",
    "df.to_csv(\"diabetes.csv\", index=False) \n",
    "\n",
    "#Loading the data from csv file\n",
    "csv_df = pd.read_csv(\"diabetes.csv\")"
   ]
  },
  {
   "cell_type": "markdown",
   "metadata": {},
   "source": [
    "Analyzing DataFrames"
   ]
  },
  {
   "cell_type": "code",
   "execution_count": 13,
   "metadata": {
    "scrolled": true
   },
   "outputs": [
    {
     "data": {
      "text/html": [
       "<div>\n",
       "<style scoped>\n",
       "    .dataframe tbody tr th:only-of-type {\n",
       "        vertical-align: middle;\n",
       "    }\n",
       "\n",
       "    .dataframe tbody tr th {\n",
       "        vertical-align: top;\n",
       "    }\n",
       "\n",
       "    .dataframe thead th {\n",
       "        text-align: right;\n",
       "    }\n",
       "</style>\n",
       "<table border=\"1\" class=\"dataframe\">\n",
       "  <thead>\n",
       "    <tr style=\"text-align: right;\">\n",
       "      <th></th>\n",
       "      <th>age</th>\n",
       "      <th>sex</th>\n",
       "      <th>bmi</th>\n",
       "      <th>bp</th>\n",
       "      <th>s1</th>\n",
       "      <th>s2</th>\n",
       "      <th>s3</th>\n",
       "      <th>s4</th>\n",
       "      <th>s5</th>\n",
       "      <th>s6</th>\n",
       "      <th>target</th>\n",
       "    </tr>\n",
       "  </thead>\n",
       "  <tbody>\n",
       "    <tr>\n",
       "      <th>0</th>\n",
       "      <td>0.038076</td>\n",
       "      <td>0.050680</td>\n",
       "      <td>0.061696</td>\n",
       "      <td>0.021872</td>\n",
       "      <td>-0.044223</td>\n",
       "      <td>-0.034821</td>\n",
       "      <td>-0.043401</td>\n",
       "      <td>-0.002592</td>\n",
       "      <td>0.019908</td>\n",
       "      <td>-0.017646</td>\n",
       "      <td>151.0</td>\n",
       "    </tr>\n",
       "    <tr>\n",
       "      <th>1</th>\n",
       "      <td>-0.001882</td>\n",
       "      <td>-0.044642</td>\n",
       "      <td>-0.051474</td>\n",
       "      <td>-0.026328</td>\n",
       "      <td>-0.008449</td>\n",
       "      <td>-0.019163</td>\n",
       "      <td>0.074412</td>\n",
       "      <td>-0.039493</td>\n",
       "      <td>-0.068330</td>\n",
       "      <td>-0.092204</td>\n",
       "      <td>75.0</td>\n",
       "    </tr>\n",
       "    <tr>\n",
       "      <th>2</th>\n",
       "      <td>0.085299</td>\n",
       "      <td>0.050680</td>\n",
       "      <td>0.044451</td>\n",
       "      <td>-0.005671</td>\n",
       "      <td>-0.045599</td>\n",
       "      <td>-0.034194</td>\n",
       "      <td>-0.032356</td>\n",
       "      <td>-0.002592</td>\n",
       "      <td>0.002864</td>\n",
       "      <td>-0.025930</td>\n",
       "      <td>141.0</td>\n",
       "    </tr>\n",
       "    <tr>\n",
       "      <th>3</th>\n",
       "      <td>-0.089063</td>\n",
       "      <td>-0.044642</td>\n",
       "      <td>-0.011595</td>\n",
       "      <td>-0.036656</td>\n",
       "      <td>0.012191</td>\n",
       "      <td>0.024991</td>\n",
       "      <td>-0.036038</td>\n",
       "      <td>0.034309</td>\n",
       "      <td>0.022692</td>\n",
       "      <td>-0.009362</td>\n",
       "      <td>206.0</td>\n",
       "    </tr>\n",
       "    <tr>\n",
       "      <th>4</th>\n",
       "      <td>0.005383</td>\n",
       "      <td>-0.044642</td>\n",
       "      <td>-0.036385</td>\n",
       "      <td>0.021872</td>\n",
       "      <td>0.003935</td>\n",
       "      <td>0.015596</td>\n",
       "      <td>0.008142</td>\n",
       "      <td>-0.002592</td>\n",
       "      <td>-0.031991</td>\n",
       "      <td>-0.046641</td>\n",
       "      <td>135.0</td>\n",
       "    </tr>\n",
       "  </tbody>\n",
       "</table>\n",
       "</div>"
      ],
      "text/plain": [
       "        age       sex       bmi        bp        s1        s2        s3  \\\n",
       "0  0.038076  0.050680  0.061696  0.021872 -0.044223 -0.034821 -0.043401   \n",
       "1 -0.001882 -0.044642 -0.051474 -0.026328 -0.008449 -0.019163  0.074412   \n",
       "2  0.085299  0.050680  0.044451 -0.005671 -0.045599 -0.034194 -0.032356   \n",
       "3 -0.089063 -0.044642 -0.011595 -0.036656  0.012191  0.024991 -0.036038   \n",
       "4  0.005383 -0.044642 -0.036385  0.021872  0.003935  0.015596  0.008142   \n",
       "\n",
       "         s4        s5        s6  target  \n",
       "0 -0.002592  0.019908 -0.017646   151.0  \n",
       "1 -0.039493 -0.068330 -0.092204    75.0  \n",
       "2 -0.002592  0.002864 -0.025930   141.0  \n",
       "3  0.034309  0.022692 -0.009362   206.0  \n",
       "4 -0.002592 -0.031991 -0.046641   135.0  "
      ]
     },
     "execution_count": 13,
     "metadata": {},
     "output_type": "execute_result"
    }
   ],
   "source": [
    "# prints the first few rows of the dataframe\n",
    "csv_df.head()"
   ]
  },
  {
   "cell_type": "code",
   "execution_count": 14,
   "metadata": {},
   "outputs": [
    {
     "name": "stdout",
     "output_type": "stream",
     "text": [
      "<class 'pandas.core.frame.DataFrame'>\n",
      "RangeIndex: 442 entries, 0 to 441\n",
      "Data columns (total 11 columns):\n",
      "age       442 non-null float64\n",
      "sex       442 non-null float64\n",
      "bmi       442 non-null float64\n",
      "bp        442 non-null float64\n",
      "s1        442 non-null float64\n",
      "s2        442 non-null float64\n",
      "s3        442 non-null float64\n",
      "s4        442 non-null float64\n",
      "s5        442 non-null float64\n",
      "s6        442 non-null float64\n",
      "target    442 non-null float64\n",
      "dtypes: float64(11)\n",
      "memory usage: 38.1 KB\n"
     ]
    }
   ],
   "source": [
    "# provides a concise summary of the dataframe\n",
    "csv_df.info()"
   ]
  },
  {
   "cell_type": "code",
   "execution_count": 13,
   "metadata": {},
   "outputs": [
    {
     "output_type": "execute_result",
     "data": {
      "text/plain": "                age           sex           bmi            bp            s1  \\\ncount  4.420000e+02  4.420000e+02  4.420000e+02  4.420000e+02  4.420000e+02   \nmean  -3.634599e-16  1.296411e-16 -8.042209e-16  1.281655e-16 -8.835316e-17   \nstd    4.761905e-02  4.761905e-02  4.761905e-02  4.761905e-02  4.761905e-02   \nmin   -1.072256e-01 -4.464164e-02 -9.027530e-02 -1.123996e-01 -1.267807e-01   \n25%   -3.729927e-02 -4.464164e-02 -3.422907e-02 -3.665645e-02 -3.424784e-02   \n50%    5.383060e-03 -4.464164e-02 -7.283766e-03 -5.670611e-03 -4.320866e-03   \n75%    3.807591e-02  5.068012e-02  3.124802e-02  3.564384e-02  2.835801e-02   \nmax    1.107267e-01  5.068012e-02  1.705552e-01  1.320442e-01  1.539137e-01   \n\n                 s2            s3            s4            s5            s6  \\\ncount  4.420000e+02  4.420000e+02  4.420000e+02  4.420000e+02  4.420000e+02   \nmean   1.327024e-16 -4.575274e-16  3.780755e-16 -3.830854e-16 -3.411950e-16   \nstd    4.761905e-02  4.761905e-02  4.761905e-02  4.761905e-02  4.761905e-02   \nmin   -1.156131e-01 -1.023071e-01 -7.639450e-02 -1.260974e-01 -1.377672e-01   \n25%   -3.035840e-02 -3.511716e-02 -3.949338e-02 -3.324879e-02 -3.317903e-02   \n50%   -3.819065e-03 -6.584468e-03 -2.592262e-03 -1.947634e-03 -1.077698e-03   \n75%    2.984439e-02  2.931150e-02  3.430886e-02  3.243323e-02  2.791705e-02   \nmax    1.987880e-01  1.811791e-01  1.852344e-01  1.335990e-01  1.356118e-01   \n\n           target  \ncount  442.000000  \nmean   152.133484  \nstd     77.093005  \nmin     25.000000  \n25%     87.000000  \n50%    140.500000  \n75%    211.500000  \nmax    346.000000  ",
      "text/html": "<div>\n<style scoped>\n    .dataframe tbody tr th:only-of-type {\n        vertical-align: middle;\n    }\n\n    .dataframe tbody tr th {\n        vertical-align: top;\n    }\n\n    .dataframe thead th {\n        text-align: right;\n    }\n</style>\n<table border=\"1\" class=\"dataframe\">\n  <thead>\n    <tr style=\"text-align: right;\">\n      <th></th>\n      <th>age</th>\n      <th>sex</th>\n      <th>bmi</th>\n      <th>bp</th>\n      <th>s1</th>\n      <th>s2</th>\n      <th>s3</th>\n      <th>s4</th>\n      <th>s5</th>\n      <th>s6</th>\n      <th>target</th>\n    </tr>\n  </thead>\n  <tbody>\n    <tr>\n      <th>count</th>\n      <td>4.420000e+02</td>\n      <td>4.420000e+02</td>\n      <td>4.420000e+02</td>\n      <td>4.420000e+02</td>\n      <td>4.420000e+02</td>\n      <td>4.420000e+02</td>\n      <td>4.420000e+02</td>\n      <td>4.420000e+02</td>\n      <td>4.420000e+02</td>\n      <td>4.420000e+02</td>\n      <td>442.000000</td>\n    </tr>\n    <tr>\n      <th>mean</th>\n      <td>-3.634599e-16</td>\n      <td>1.296411e-16</td>\n      <td>-8.042209e-16</td>\n      <td>1.281655e-16</td>\n      <td>-8.835316e-17</td>\n      <td>1.327024e-16</td>\n      <td>-4.575274e-16</td>\n      <td>3.780755e-16</td>\n      <td>-3.830854e-16</td>\n      <td>-3.411950e-16</td>\n      <td>152.133484</td>\n    </tr>\n    <tr>\n      <th>std</th>\n      <td>4.761905e-02</td>\n      <td>4.761905e-02</td>\n      <td>4.761905e-02</td>\n      <td>4.761905e-02</td>\n      <td>4.761905e-02</td>\n      <td>4.761905e-02</td>\n      <td>4.761905e-02</td>\n      <td>4.761905e-02</td>\n      <td>4.761905e-02</td>\n      <td>4.761905e-02</td>\n      <td>77.093005</td>\n    </tr>\n    <tr>\n      <th>min</th>\n      <td>-1.072256e-01</td>\n      <td>-4.464164e-02</td>\n      <td>-9.027530e-02</td>\n      <td>-1.123996e-01</td>\n      <td>-1.267807e-01</td>\n      <td>-1.156131e-01</td>\n      <td>-1.023071e-01</td>\n      <td>-7.639450e-02</td>\n      <td>-1.260974e-01</td>\n      <td>-1.377672e-01</td>\n      <td>25.000000</td>\n    </tr>\n    <tr>\n      <th>25%</th>\n      <td>-3.729927e-02</td>\n      <td>-4.464164e-02</td>\n      <td>-3.422907e-02</td>\n      <td>-3.665645e-02</td>\n      <td>-3.424784e-02</td>\n      <td>-3.035840e-02</td>\n      <td>-3.511716e-02</td>\n      <td>-3.949338e-02</td>\n      <td>-3.324879e-02</td>\n      <td>-3.317903e-02</td>\n      <td>87.000000</td>\n    </tr>\n    <tr>\n      <th>50%</th>\n      <td>5.383060e-03</td>\n      <td>-4.464164e-02</td>\n      <td>-7.283766e-03</td>\n      <td>-5.670611e-03</td>\n      <td>-4.320866e-03</td>\n      <td>-3.819065e-03</td>\n      <td>-6.584468e-03</td>\n      <td>-2.592262e-03</td>\n      <td>-1.947634e-03</td>\n      <td>-1.077698e-03</td>\n      <td>140.500000</td>\n    </tr>\n    <tr>\n      <th>75%</th>\n      <td>3.807591e-02</td>\n      <td>5.068012e-02</td>\n      <td>3.124802e-02</td>\n      <td>3.564384e-02</td>\n      <td>2.835801e-02</td>\n      <td>2.984439e-02</td>\n      <td>2.931150e-02</td>\n      <td>3.430886e-02</td>\n      <td>3.243323e-02</td>\n      <td>2.791705e-02</td>\n      <td>211.500000</td>\n    </tr>\n    <tr>\n      <th>max</th>\n      <td>1.107267e-01</td>\n      <td>5.068012e-02</td>\n      <td>1.705552e-01</td>\n      <td>1.320442e-01</td>\n      <td>1.539137e-01</td>\n      <td>1.987880e-01</td>\n      <td>1.811791e-01</td>\n      <td>1.852344e-01</td>\n      <td>1.335990e-01</td>\n      <td>1.356118e-01</td>\n      <td>346.000000</td>\n    </tr>\n  </tbody>\n</table>\n</div>"
     },
     "metadata": {},
     "execution_count": 13
    }
   ],
   "source": [
    "# provides descriptive statistics of central tendency, dispersion and shape\n",
    "csv_df.describe()"
   ]
  },
  {
   "cell_type": "markdown",
   "metadata": {},
   "source": [
    "Views and Slicing"
   ]
  },
  {
   "cell_type": "code",
   "execution_count": 16,
   "metadata": {},
   "outputs": [
    {
     "data": {
      "text/html": [
       "<div>\n",
       "<style scoped>\n",
       "    .dataframe tbody tr th:only-of-type {\n",
       "        vertical-align: middle;\n",
       "    }\n",
       "\n",
       "    .dataframe tbody tr th {\n",
       "        vertical-align: top;\n",
       "    }\n",
       "\n",
       "    .dataframe thead th {\n",
       "        text-align: right;\n",
       "    }\n",
       "</style>\n",
       "<table border=\"1\" class=\"dataframe\">\n",
       "  <thead>\n",
       "    <tr style=\"text-align: right;\">\n",
       "      <th></th>\n",
       "      <th>age</th>\n",
       "      <th>sex</th>\n",
       "      <th>bmi</th>\n",
       "      <th>bp</th>\n",
       "      <th>s1</th>\n",
       "      <th>s2</th>\n",
       "      <th>s3</th>\n",
       "      <th>s4</th>\n",
       "      <th>s5</th>\n",
       "      <th>s6</th>\n",
       "      <th>target</th>\n",
       "      <th>fat</th>\n",
       "    </tr>\n",
       "  </thead>\n",
       "  <tbody>\n",
       "    <tr>\n",
       "      <th>0</th>\n",
       "      <td>0.038076</td>\n",
       "      <td>0.050680</td>\n",
       "      <td>0.061696</td>\n",
       "      <td>0.021872</td>\n",
       "      <td>-0.044223</td>\n",
       "      <td>-0.034821</td>\n",
       "      <td>-0.043401</td>\n",
       "      <td>-0.002592</td>\n",
       "      <td>0.019908</td>\n",
       "      <td>-0.017646</td>\n",
       "      <td>151.0</td>\n",
       "      <td>True</td>\n",
       "    </tr>\n",
       "    <tr>\n",
       "      <th>2</th>\n",
       "      <td>0.085299</td>\n",
       "      <td>0.050680</td>\n",
       "      <td>0.044451</td>\n",
       "      <td>-0.005671</td>\n",
       "      <td>-0.045599</td>\n",
       "      <td>-0.034194</td>\n",
       "      <td>-0.032356</td>\n",
       "      <td>-0.002592</td>\n",
       "      <td>0.002864</td>\n",
       "      <td>-0.025930</td>\n",
       "      <td>141.0</td>\n",
       "      <td>True</td>\n",
       "    </tr>\n",
       "    <tr>\n",
       "      <th>8</th>\n",
       "      <td>0.041708</td>\n",
       "      <td>0.050680</td>\n",
       "      <td>0.061696</td>\n",
       "      <td>-0.040099</td>\n",
       "      <td>-0.013953</td>\n",
       "      <td>0.006202</td>\n",
       "      <td>-0.028674</td>\n",
       "      <td>-0.002592</td>\n",
       "      <td>-0.014956</td>\n",
       "      <td>0.011349</td>\n",
       "      <td>110.0</td>\n",
       "      <td>True</td>\n",
       "    </tr>\n",
       "    <tr>\n",
       "      <th>9</th>\n",
       "      <td>-0.070900</td>\n",
       "      <td>-0.044642</td>\n",
       "      <td>0.039062</td>\n",
       "      <td>-0.033214</td>\n",
       "      <td>-0.012577</td>\n",
       "      <td>-0.034508</td>\n",
       "      <td>-0.024993</td>\n",
       "      <td>-0.002592</td>\n",
       "      <td>0.067736</td>\n",
       "      <td>-0.013504</td>\n",
       "      <td>310.0</td>\n",
       "      <td>True</td>\n",
       "    </tr>\n",
       "    <tr>\n",
       "      <th>11</th>\n",
       "      <td>0.027178</td>\n",
       "      <td>0.050680</td>\n",
       "      <td>0.017506</td>\n",
       "      <td>-0.033214</td>\n",
       "      <td>-0.007073</td>\n",
       "      <td>0.045972</td>\n",
       "      <td>-0.065491</td>\n",
       "      <td>0.071210</td>\n",
       "      <td>-0.096433</td>\n",
       "      <td>-0.059067</td>\n",
       "      <td>69.0</td>\n",
       "      <td>True</td>\n",
       "    </tr>\n",
       "    <tr>\n",
       "      <th>16</th>\n",
       "      <td>-0.005515</td>\n",
       "      <td>-0.044642</td>\n",
       "      <td>0.042296</td>\n",
       "      <td>0.049415</td>\n",
       "      <td>0.024574</td>\n",
       "      <td>-0.023861</td>\n",
       "      <td>0.074412</td>\n",
       "      <td>-0.039493</td>\n",
       "      <td>0.052280</td>\n",
       "      <td>0.027917</td>\n",
       "      <td>166.0</td>\n",
       "      <td>True</td>\n",
       "    </tr>\n",
       "    <tr>\n",
       "      <th>17</th>\n",
       "      <td>0.070769</td>\n",
       "      <td>0.050680</td>\n",
       "      <td>0.012117</td>\n",
       "      <td>0.056301</td>\n",
       "      <td>0.034206</td>\n",
       "      <td>0.049416</td>\n",
       "      <td>-0.039719</td>\n",
       "      <td>0.034309</td>\n",
       "      <td>0.027368</td>\n",
       "      <td>-0.001078</td>\n",
       "      <td>144.0</td>\n",
       "      <td>True</td>\n",
       "    </tr>\n",
       "    <tr>\n",
       "      <th>23</th>\n",
       "      <td>0.045341</td>\n",
       "      <td>0.050680</td>\n",
       "      <td>0.060618</td>\n",
       "      <td>0.031053</td>\n",
       "      <td>0.028702</td>\n",
       "      <td>-0.047347</td>\n",
       "      <td>-0.054446</td>\n",
       "      <td>0.071210</td>\n",
       "      <td>0.133599</td>\n",
       "      <td>0.135612</td>\n",
       "      <td>245.0</td>\n",
       "      <td>True</td>\n",
       "    </tr>\n",
       "    <tr>\n",
       "      <th>24</th>\n",
       "      <td>-0.063635</td>\n",
       "      <td>-0.044642</td>\n",
       "      <td>0.035829</td>\n",
       "      <td>-0.022885</td>\n",
       "      <td>-0.030464</td>\n",
       "      <td>-0.018850</td>\n",
       "      <td>-0.006584</td>\n",
       "      <td>-0.002592</td>\n",
       "      <td>-0.025952</td>\n",
       "      <td>-0.054925</td>\n",
       "      <td>184.0</td>\n",
       "      <td>True</td>\n",
       "    </tr>\n",
       "    <tr>\n",
       "      <th>27</th>\n",
       "      <td>-0.023677</td>\n",
       "      <td>-0.044642</td>\n",
       "      <td>0.059541</td>\n",
       "      <td>-0.040099</td>\n",
       "      <td>-0.042848</td>\n",
       "      <td>-0.043589</td>\n",
       "      <td>0.011824</td>\n",
       "      <td>-0.039493</td>\n",
       "      <td>-0.015998</td>\n",
       "      <td>0.040343</td>\n",
       "      <td>85.0</td>\n",
       "      <td>True</td>\n",
       "    </tr>\n",
       "  </tbody>\n",
       "</table>\n",
       "</div>"
      ],
      "text/plain": [
       "         age       sex       bmi        bp        s1        s2        s3  \\\n",
       "0   0.038076  0.050680  0.061696  0.021872 -0.044223 -0.034821 -0.043401   \n",
       "2   0.085299  0.050680  0.044451 -0.005671 -0.045599 -0.034194 -0.032356   \n",
       "8   0.041708  0.050680  0.061696 -0.040099 -0.013953  0.006202 -0.028674   \n",
       "9  -0.070900 -0.044642  0.039062 -0.033214 -0.012577 -0.034508 -0.024993   \n",
       "11  0.027178  0.050680  0.017506 -0.033214 -0.007073  0.045972 -0.065491   \n",
       "16 -0.005515 -0.044642  0.042296  0.049415  0.024574 -0.023861  0.074412   \n",
       "17  0.070769  0.050680  0.012117  0.056301  0.034206  0.049416 -0.039719   \n",
       "23  0.045341  0.050680  0.060618  0.031053  0.028702 -0.047347 -0.054446   \n",
       "24 -0.063635 -0.044642  0.035829 -0.022885 -0.030464 -0.018850 -0.006584   \n",
       "27 -0.023677 -0.044642  0.059541 -0.040099 -0.042848 -0.043589  0.011824   \n",
       "\n",
       "          s4        s5        s6  target   fat  \n",
       "0  -0.002592  0.019908 -0.017646   151.0  True  \n",
       "2  -0.002592  0.002864 -0.025930   141.0  True  \n",
       "8  -0.002592 -0.014956  0.011349   110.0  True  \n",
       "9  -0.002592  0.067736 -0.013504   310.0  True  \n",
       "11  0.071210 -0.096433 -0.059067    69.0  True  \n",
       "16 -0.039493  0.052280  0.027917   166.0  True  \n",
       "17  0.034309  0.027368 -0.001078   144.0  True  \n",
       "23  0.071210  0.133599  0.135612   245.0  True  \n",
       "24 -0.002592 -0.025952 -0.054925   184.0  True  \n",
       "27 -0.039493 -0.015998  0.040343    85.0  True  "
      ]
     },
     "execution_count": 16,
     "metadata": {},
     "output_type": "execute_result"
    }
   ],
   "source": [
    "bmi = csv_df[\"bmi\"]                       # get the column of bmi\n",
    "\n",
    "csv_df[\"fat\"] = csv_df[\"bmi\"] > 0         # creates a new column with True / False values is bmi > 0\n",
    "\n",
    "csv_df[csv_df.fat]                        # selecting rows of entire dataframe where bmi > 0\n",
    "\n",
    "csv_df[csv_df.fat][:10]                   # selecting first 10 rows where bmi > 0"
   ]
  },
  {
   "cell_type": "code",
   "execution_count": 14,
   "metadata": {},
   "outputs": [],
   "source": [
    "## Matplotlib practice"
   ]
  },
  {
   "cell_type": "code",
   "execution_count": 18,
   "metadata": {},
   "outputs": [
    {
     "data": {
      "image/png": "[encoded data removed]",
      "text/plain": [
       "<Figure size 432x288 with 1 Axes>"
      ]
     },
     "metadata": {
      "needs_background": "light"
     },
     "output_type": "display_data"
    }
   ],
   "source": [
    "import matplotlib.pyplot as plt\n",
    "import numpy as np\n",
    "\n",
    "N = 100                                              # setting number of points\n",
    "data_x = np.arange(N)                                # Generate an array with values from 0 to N\n",
    "rdm = (np.random.rand(N)-0.5)                        # rand(N) returns N random numbers between 0 and 1\n",
    "data_y1 = data_x + rdm*10                            # Linear wrt x, with noise\n",
    "plt.scatter(data_x, data_y1, color='blue')           # Scatter plot; color parameter is optional\n",
    "plt.plot(data_x,data_x, \"r-\")                        # Line plot to show 'true' function without noise in red\n",
    "plt.show()"
   ]
  },
  {
   "cell_type": "markdown",
   "metadata": {},
   "source": [
    "#### Reading Datasets\n",
    "In order to perform machine learning, we typically need a significant amount of data. By understanding the data, analysing patterns and training our algorithms, we can achieve meaningful results. Scikit-learn makes it easy for us to access some pre-defined 'toy' datasets to practice our understanding.\n",
    "\n",
    "In this example, we'll use the \"diabetes\" dataset, which contains records for 442 diabetes patients. The 10 features in the dataset represent each patient's age, sex, body mass index, average blood pressure, and six blood serum measurements. The response of interest is a quantitative measure of disease progression one year after baseline. We'll use this to find a regression to predict a patient's disease progression based on any of their features.\n",
    "\n",
    "Read through the code below to understand how this particular data is structured."
   ]
  },
  {
   "cell_type": "code",
   "execution_count": 15,
   "metadata": {},
   "outputs": [
    {
     "output_type": "display_data",
     "data": {
      "text/plain": "<Figure size 432x288 with 2 Axes>",
      "image/svg+xml": "<?xml version=\"1.0\" encoding=\"utf-8\" standalone=\"no\"?>\r\n<!DOCTYPE svg PUBLIC \"-//W3C//DTD SVG 1.1//EN\"\r\n  \"http://www.w3.org/Graphics/SVG/1.1/DTD/svg11.dtd\">\r\n<!-- Created with matplotlib (https://matplotlib.org/) -->\r\n<svg height=\"252.536051pt\" version=\"1.1\" viewBox=\"0 0 349.43325 252.536051\" width=\"349.43325pt\" xmlns=\"http://www.w3.org/2000/svg\" xmlns:xlink=\"http://www.w3.org/1999/xlink\">\r\n <defs>\r\n  <style type=\"text/css\">\r\n*{stroke-linecap:butt;stroke-linejoin:round;}\r\n  </style>\r\n </defs>\r\n <g id=\"figure_1\">\r\n  <g id=\"patch_1\">\r\n   <path d=\"M -0 252.536051 \r\nL 349.43325 252.536051 \r\nL 349.43325 0 \r\nL -0 0 \r\nz\r\n\" style=\"fill:none;\"/>\r\n  </g>\r\n  <g id=\"axes_1\">\r\n   <g id=\"patch_2\">\r\n    <path d=\"M 23.878125 228.439219 \r\nL 291.718125 228.439219 \r\nL 291.718125 10.999219 \r\nL 23.878125 10.999219 \r\nz\r\n\" style=\"fill:#ffffff;\"/>\r\n   </g>\r\n   <g id=\"QuadMesh_1\">\r\n    <path clip-path=\"url(#p6906ad2572)\" d=\"M 23.878125 10.999219 \r\nL 48.227216 10.999219 \r\nL 48.227216 30.766491 \r\nL 23.878125 30.766491 \r\nL 23.878125 10.999219 \r\n\" style=\"fill:#faebdd;\"/>\r\n    <path clip-path=\"url(#p6906ad2572)\" d=\"M 48.227216 10.999219 \r\nL 72.576307 10.999219 \r\nL 72.576307 30.766491 \r\nL 48.227216 30.766491 \r\nL 48.227216 10.999219 \r\n\" style=\"fill:#35193e;\"/>\r\n    <path clip-path=\"url(#p6906ad2572)\" d=\"M 72.576307 10.999219 \r\nL 96.925398 10.999219 \r\nL 96.925398 30.766491 \r\nL 72.576307 30.766491 \r\nL 72.576307 10.999219 \r\n\" style=\"fill:#3a1a41;\"/>\r\n    <path clip-path=\"url(#p6906ad2572)\" d=\"M 96.925398 10.999219 \r\nL 121.274489 10.999219 \r\nL 121.274489 30.766491 \r\nL 96.925398 30.766491 \r\nL 96.925398 10.999219 \r\n\" style=\"fill:#7a1f59;\"/>\r\n    <path clip-path=\"url(#p6906ad2572)\" d=\"M 121.274489 10.999219 \r\nL 145.62358 10.999219 \r\nL 145.62358 30.766491 \r\nL 121.274489 30.766491 \r\nL 121.274489 10.999219 \r\n\" style=\"fill:#591e50;\"/>\r\n    <path clip-path=\"url(#p6906ad2572)\" d=\"M 145.62358 10.999219 \r\nL 169.97267 10.999219 \r\nL 169.97267 30.766491 \r\nL 145.62358 30.766491 \r\nL 145.62358 10.999219 \r\n\" style=\"fill:#481c48;\"/>\r\n    <path clip-path=\"url(#p6906ad2572)\" d=\"M 169.97267 10.999219 \r\nL 194.321761 10.999219 \r\nL 194.321761 30.766491 \r\nL 169.97267 30.766491 \r\nL 169.97267 10.999219 \r\n\" style=\"fill:#100b23;\"/>\r\n    <path clip-path=\"url(#p6906ad2572)\" d=\"M 194.321761 10.999219 \r\nL 218.670852 10.999219 \r\nL 218.670852 30.766491 \r\nL 194.321761 30.766491 \r\nL 194.321761 10.999219 \r\n\" style=\"fill:#421b45;\"/>\r\n    <path clip-path=\"url(#p6906ad2572)\" d=\"M 218.670852 10.999219 \r\nL 243.019943 10.999219 \r\nL 243.019943 30.766491 \r\nL 218.670852 30.766491 \r\nL 218.670852 10.999219 \r\n\" style=\"fill:#5e1f52;\"/>\r\n    <path clip-path=\"url(#p6906ad2572)\" d=\"M 243.019943 10.999219 \r\nL 267.369034 10.999219 \r\nL 267.369034 30.766491 \r\nL 243.019943 30.766491 \r\nL 243.019943 10.999219 \r\n\" style=\"fill:#6b1f56;\"/>\r\n    <path clip-path=\"url(#p6906ad2572)\" d=\"M 267.369034 10.999219 \r\nL 291.718125 10.999219 \r\nL 291.718125 30.766491 \r\nL 267.369034 30.766491 \r\nL 267.369034 10.999219 \r\n\" style=\"fill:#3c1a42;\"/>\r\n    <path clip-path=\"url(#p6906ad2572)\" d=\"M 23.878125 30.766491 \r\nL 48.227216 30.766491 \r\nL 48.227216 50.533764 \r\nL 23.878125 50.533764 \r\nL 23.878125 30.766491 \r\n\" style=\"fill:#35193e;\"/>\r\n    <path clip-path=\"url(#p6906ad2572)\" d=\"M 48.227216 30.766491 \r\nL 72.576307 30.766491 \r\nL 72.576307 50.533764 \r\nL 48.227216 50.533764 \r\nL 48.227216 30.766491 \r\n\" style=\"fill:#faebdd;\"/>\r\n    <path clip-path=\"url(#p6906ad2572)\" d=\"M 72.576307 30.766491 \r\nL 96.925398 30.766491 \r\nL 96.925398 50.533764 \r\nL 72.576307 50.533764 \r\nL 72.576307 30.766491 \r\n\" style=\"fill:#160e27;\"/>\r\n    <path clip-path=\"url(#p6906ad2572)\" d=\"M 96.925398 30.766491 \r\nL 121.274489 30.766491 \r\nL 121.274489 50.533764 \r\nL 96.925398 50.533764 \r\nL 96.925398 30.766491 \r\n\" style=\"fill:#511e4d;\"/>\r\n    <path clip-path=\"url(#p6906ad2572)\" d=\"M 121.274489 30.766491 \r\nL 145.62358 30.766491 \r\nL 145.62358 50.533764 \r\nL 121.274489 50.533764 \r\nL 121.274489 30.766491 \r\n\" style=\"fill:#03051a;\"/>\r\n    <path clip-path=\"url(#p6906ad2572)\" d=\"M 145.62358 30.766491 \r\nL 169.97267 30.766491 \r\nL 169.97267 50.533764 \r\nL 145.62358 50.533764 \r\nL 145.62358 30.766491 \r\n\" style=\"fill:#2a1636;\"/>\r\n    <path clip-path=\"url(#p6906ad2572)\" d=\"M 169.97267 30.766491 \r\nL 194.321761 30.766491 \r\nL 194.321761 50.533764 \r\nL 169.97267 50.533764 \r\nL 169.97267 30.766491 \r\n\" style=\"fill:#8e1d5b;\"/>\r\n    <path clip-path=\"url(#p6906ad2572)\" d=\"M 194.321761 30.766491 \r\nL 218.670852 30.766491 \r\nL 218.670852 50.533764 \r\nL 194.321761 50.533764 \r\nL 194.321761 30.766491 \r\n\" style=\"fill:#781f59;\"/>\r\n    <path clip-path=\"url(#p6906ad2572)\" d=\"M 218.670852 30.766491 \r\nL 243.019943 30.766491 \r\nL 243.019943 50.533764 \r\nL 218.670852 50.533764 \r\nL 218.670852 30.766491 \r\n\" style=\"fill:#2d1738;\"/>\r\n    <path clip-path=\"url(#p6906ad2572)\" d=\"M 243.019943 30.766491 \r\nL 267.369034 30.766491 \r\nL 267.369034 50.533764 \r\nL 243.019943 50.533764 \r\nL 243.019943 30.766491 \r\n\" style=\"fill:#431c46;\"/>\r\n    <path clip-path=\"url(#p6906ad2572)\" d=\"M 267.369034 30.766491 \r\nL 291.718125 30.766491 \r\nL 291.718125 50.533764 \r\nL 267.369034 50.533764 \r\nL 267.369034 30.766491 \r\n\" style=\"fill:#05061b;\"/>\r\n    <path clip-path=\"url(#p6906ad2572)\" d=\"M 23.878125 50.533764 \r\nL 48.227216 50.533764 \r\nL 48.227216 70.301037 \r\nL 23.878125 70.301037 \r\nL 23.878125 50.533764 \r\n\" style=\"fill:#3a1a41;\"/>\r\n    <path clip-path=\"url(#p6906ad2572)\" d=\"M 48.227216 50.533764 \r\nL 72.576307 50.533764 \r\nL 72.576307 70.301037 \r\nL 48.227216 70.301037 \r\nL 48.227216 50.533764 \r\n\" style=\"fill:#160e27;\"/>\r\n    <path clip-path=\"url(#p6906ad2572)\" d=\"M 72.576307 50.533764 \r\nL 96.925398 50.533764 \r\nL 96.925398 70.301037 \r\nL 72.576307 70.301037 \r\nL 72.576307 50.533764 \r\n\" style=\"fill:#faebdd;\"/>\r\n    <path clip-path=\"url(#p6906ad2572)\" d=\"M 96.925398 50.533764 \r\nL 121.274489 50.533764 \r\nL 121.274489 70.301037 \r\nL 96.925398 70.301037 \r\nL 96.925398 50.533764 \r\n\" style=\"fill:#951c5b;\"/>\r\n    <path clip-path=\"url(#p6906ad2572)\" d=\"M 121.274489 50.533764 \r\nL 145.62358 50.533764 \r\nL 145.62358 70.301037 \r\nL 121.274489 70.301037 \r\nL 121.274489 50.533764 \r\n\" style=\"fill:#541e4e;\"/>\r\n    <path clip-path=\"url(#p6906ad2572)\" d=\"M 145.62358 50.533764 \r\nL 169.97267 50.533764 \r\nL 169.97267 70.301037 \r\nL 145.62358 70.301037 \r\nL 145.62358 50.533764 \r\n\" style=\"fill:#591e50;\"/>\r\n    <path clip-path=\"url(#p6906ad2572)\" d=\"M 169.97267 50.533764 \r\nL 194.321761 50.533764 \r\nL 194.321761 70.301037 \r\nL 169.97267 70.301037 \r\nL 169.97267 50.533764 \r\n\" style=\"fill:#871e5b;\"/>\r\n    <path clip-path=\"url(#p6906ad2572)\" d=\"M 194.321761 50.533764 \r\nL 218.670852 50.533764 \r\nL 218.670852 70.301037 \r\nL 194.321761 70.301037 \r\nL 194.321761 50.533764 \r\n\" style=\"fill:#9e1a5b;\"/>\r\n    <path clip-path=\"url(#p6906ad2572)\" d=\"M 218.670852 50.533764 \r\nL 243.019943 50.533764 \r\nL 243.019943 70.301037 \r\nL 218.670852 70.301037 \r\nL 218.670852 50.533764 \r\n\" style=\"fill:#ad1759;\"/>\r\n    <path clip-path=\"url(#p6906ad2572)\" d=\"M 243.019943 50.533764 \r\nL 267.369034 50.533764 \r\nL 267.369034 70.301037 \r\nL 243.019943 70.301037 \r\nL 243.019943 50.533764 \r\n\" style=\"fill:#921c5b;\"/>\r\n    <path clip-path=\"url(#p6906ad2572)\" d=\"M 267.369034 50.533764 \r\nL 291.718125 50.533764 \r\nL 291.718125 70.301037 \r\nL 267.369034 70.301037 \r\nL 267.369034 50.533764 \r\n\" style=\"fill:#e13342;\"/>\r\n    <path clip-path=\"url(#p6906ad2572)\" d=\"M 23.878125 70.301037 \r\nL 48.227216 70.301037 \r\nL 48.227216 90.06831 \r\nL 23.878125 90.06831 \r\nL 23.878125 70.301037 \r\n\" style=\"fill:#7a1f59;\"/>\r\n    <path clip-path=\"url(#p6906ad2572)\" d=\"M 48.227216 70.301037 \r\nL 72.576307 70.301037 \r\nL 72.576307 90.06831 \r\nL 48.227216 90.06831 \r\nL 48.227216 70.301037 \r\n\" style=\"fill:#511e4d;\"/>\r\n    <path clip-path=\"url(#p6906ad2572)\" d=\"M 72.576307 70.301037 \r\nL 96.925398 70.301037 \r\nL 96.925398 90.06831 \r\nL 72.576307 90.06831 \r\nL 72.576307 70.301037 \r\n\" style=\"fill:#951c5b;\"/>\r\n    <path clip-path=\"url(#p6906ad2572)\" d=\"M 96.925398 70.301037 \r\nL 121.274489 70.301037 \r\nL 121.274489 90.06831 \r\nL 96.925398 90.06831 \r\nL 96.925398 70.301037 \r\n\" style=\"fill:#faebdd;\"/>\r\n    <path clip-path=\"url(#p6906ad2572)\" d=\"M 121.274489 70.301037 \r\nL 145.62358 70.301037 \r\nL 145.62358 90.06831 \r\nL 121.274489 90.06831 \r\nL 121.274489 70.301037 \r\n\" style=\"fill:#511e4d;\"/>\r\n    <path clip-path=\"url(#p6906ad2572)\" d=\"M 145.62358 70.301037 \r\nL 169.97267 70.301037 \r\nL 169.97267 90.06831 \r\nL 145.62358 90.06831 \r\nL 145.62358 70.301037 \r\n\" style=\"fill:#3a1a41;\"/>\r\n    <path clip-path=\"url(#p6906ad2572)\" d=\"M 169.97267 70.301037 \r\nL 194.321761 70.301037 \r\nL 194.321761 90.06831 \r\nL 169.97267 90.06831 \r\nL 169.97267 70.301037 \r\n\" style=\"fill:#381a40;\"/>\r\n    <path clip-path=\"url(#p6906ad2572)\" d=\"M 194.321761 70.301037 \r\nL 218.670852 70.301037 \r\nL 218.670852 90.06831 \r\nL 194.321761 90.06831 \r\nL 194.321761 70.301037 \r\n\" style=\"fill:#591e50;\"/>\r\n    <path clip-path=\"url(#p6906ad2572)\" d=\"M 218.670852 70.301037 \r\nL 243.019943 70.301037 \r\nL 243.019943 90.06831 \r\nL 218.670852 90.06831 \r\nL 218.670852 70.301037 \r\n\" style=\"fill:#951c5b;\"/>\r\n    <path clip-path=\"url(#p6906ad2572)\" d=\"M 243.019943 70.301037 \r\nL 267.369034 70.301037 \r\nL 267.369034 90.06831 \r\nL 243.019943 90.06831 \r\nL 243.019943 70.301037 \r\n\" style=\"fill:#931c5b;\"/>\r\n    <path clip-path=\"url(#p6906ad2572)\" d=\"M 267.369034 70.301037 \r\nL 291.718125 70.301037 \r\nL 291.718125 90.06831 \r\nL 267.369034 90.06831 \r\nL 267.369034 70.301037 \r\n\" style=\"fill:#aa185a;\"/>\r\n    <path clip-path=\"url(#p6906ad2572)\" d=\"M 23.878125 90.06831 \r\nL 48.227216 90.06831 \r\nL 48.227216 109.835582 \r\nL 23.878125 109.835582 \r\nL 23.878125 90.06831 \r\n\" style=\"fill:#591e50;\"/>\r\n    <path clip-path=\"url(#p6906ad2572)\" d=\"M 48.227216 90.06831 \r\nL 72.576307 90.06831 \r\nL 72.576307 109.835582 \r\nL 48.227216 109.835582 \r\nL 48.227216 90.06831 \r\n\" style=\"fill:#03051a;\"/>\r\n    <path clip-path=\"url(#p6906ad2572)\" d=\"M 72.576307 90.06831 \r\nL 96.925398 90.06831 \r\nL 96.925398 109.835582 \r\nL 72.576307 109.835582 \r\nL 72.576307 90.06831 \r\n\" style=\"fill:#541e4e;\"/>\r\n    <path clip-path=\"url(#p6906ad2572)\" d=\"M 96.925398 90.06831 \r\nL 121.274489 90.06831 \r\nL 121.274489 109.835582 \r\nL 96.925398 109.835582 \r\nL 96.925398 90.06831 \r\n\" style=\"fill:#511e4d;\"/>\r\n    <path clip-path=\"url(#p6906ad2572)\" d=\"M 121.274489 90.06831 \r\nL 145.62358 90.06831 \r\nL 145.62358 109.835582 \r\nL 121.274489 109.835582 \r\nL 121.274489 90.06831 \r\n\" style=\"fill:#faebdd;\"/>\r\n    <path clip-path=\"url(#p6906ad2572)\" d=\"M 145.62358 90.06831 \r\nL 169.97267 90.06831 \r\nL 169.97267 109.835582 \r\nL 145.62358 109.835582 \r\nL 145.62358 90.06831 \r\n\" style=\"fill:#f7c2a2;\"/>\r\n    <path clip-path=\"url(#p6906ad2572)\" d=\"M 169.97267 90.06831 \r\nL 194.321761 90.06831 \r\nL 194.321761 109.835582 \r\nL 169.97267 109.835582 \r\nL 169.97267 90.06831 \r\n\" style=\"fill:#07071d;\"/>\r\n    <path clip-path=\"url(#p6906ad2572)\" d=\"M 194.321761 90.06831 \r\nL 218.670852 90.06831 \r\nL 218.670852 109.835582 \r\nL 194.321761 109.835582 \r\nL 194.321761 90.06831 \r\n\" style=\"fill:#d3214b;\"/>\r\n    <path clip-path=\"url(#p6906ad2572)\" d=\"M 218.670852 90.06831 \r\nL 243.019943 90.06831 \r\nL 243.019943 109.835582 \r\nL 218.670852 109.835582 \r\nL 218.670852 90.06831 \r\n\" style=\"fill:#ca1a50;\"/>\r\n    <path clip-path=\"url(#p6906ad2572)\" d=\"M 243.019943 90.06831 \r\nL 267.369034 90.06831 \r\nL 267.369034 109.835582 \r\nL 243.019943 109.835582 \r\nL 243.019943 90.06831 \r\n\" style=\"fill:#761f58;\"/>\r\n    <path clip-path=\"url(#p6906ad2572)\" d=\"M 267.369034 90.06831 \r\nL 291.718125 90.06831 \r\nL 291.718125 109.835582 \r\nL 267.369034 109.835582 \r\nL 267.369034 90.06831 \r\n\" style=\"fill:#451c47;\"/>\r\n    <path clip-path=\"url(#p6906ad2572)\" d=\"M 23.878125 109.835582 \r\nL 48.227216 109.835582 \r\nL 48.227216 129.602855 \r\nL 23.878125 129.602855 \r\nL 23.878125 109.835582 \r\n\" style=\"fill:#481c48;\"/>\r\n    <path clip-path=\"url(#p6906ad2572)\" d=\"M 48.227216 109.835582 \r\nL 72.576307 109.835582 \r\nL 72.576307 129.602855 \r\nL 48.227216 129.602855 \r\nL 48.227216 109.835582 \r\n\" style=\"fill:#2a1636;\"/>\r\n    <path clip-path=\"url(#p6906ad2572)\" d=\"M 72.576307 109.835582 \r\nL 96.925398 109.835582 \r\nL 96.925398 129.602855 \r\nL 72.576307 129.602855 \r\nL 72.576307 109.835582 \r\n\" style=\"fill:#591e50;\"/>\r\n    <path clip-path=\"url(#p6906ad2572)\" d=\"M 96.925398 109.835582 \r\nL 121.274489 109.835582 \r\nL 121.274489 129.602855 \r\nL 96.925398 129.602855 \r\nL 96.925398 109.835582 \r\n\" style=\"fill:#3a1a41;\"/>\r\n    <path clip-path=\"url(#p6906ad2572)\" d=\"M 121.274489 109.835582 \r\nL 145.62358 109.835582 \r\nL 145.62358 129.602855 \r\nL 121.274489 129.602855 \r\nL 121.274489 109.835582 \r\n\" style=\"fill:#f7c2a2;\"/>\r\n    <path clip-path=\"url(#p6906ad2572)\" d=\"M 145.62358 109.835582 \r\nL 169.97267 109.835582 \r\nL 169.97267 129.602855 \r\nL 145.62358 129.602855 \r\nL 145.62358 109.835582 \r\n\" style=\"fill:#faebdd;\"/>\r\n    <path clip-path=\"url(#p6906ad2572)\" d=\"M 169.97267 109.835582 \r\nL 194.321761 109.835582 \r\nL 194.321761 129.602855 \r\nL 169.97267 129.602855 \r\nL 169.97267 109.835582 \r\n\" style=\"fill:#3f1b43;\"/>\r\n    <path clip-path=\"url(#p6906ad2572)\" d=\"M 194.321761 109.835582 \r\nL 218.670852 109.835582 \r\nL 218.670852 129.602855 \r\nL 194.321761 129.602855 \r\nL 194.321761 109.835582 \r\n\" style=\"fill:#ef5640;\"/>\r\n    <path clip-path=\"url(#p6906ad2572)\" d=\"M 218.670852 109.835582 \r\nL 243.019943 109.835582 \r\nL 243.019943 129.602855 \r\nL 218.670852 129.602855 \r\nL 218.670852 109.835582 \r\n\" style=\"fill:#731f58;\"/>\r\n    <path clip-path=\"url(#p6906ad2572)\" d=\"M 243.019943 109.835582 \r\nL 267.369034 109.835582 \r\nL 267.369034 129.602855 \r\nL 243.019943 129.602855 \r\nL 243.019943 109.835582 \r\n\" style=\"fill:#661f54;\"/>\r\n    <path clip-path=\"url(#p6906ad2572)\" d=\"M 267.369034 109.835582 \r\nL 291.718125 109.835582 \r\nL 291.718125 129.602855 \r\nL 267.369034 129.602855 \r\nL 267.369034 109.835582 \r\n\" style=\"fill:#35193e;\"/>\r\n    <path clip-path=\"url(#p6906ad2572)\" d=\"M 23.878125 129.602855 \r\nL 48.227216 129.602855 \r\nL 48.227216 149.370128 \r\nL 23.878125 149.370128 \r\nL 23.878125 129.602855 \r\n\" style=\"fill:#100b23;\"/>\r\n    <path clip-path=\"url(#p6906ad2572)\" d=\"M 48.227216 129.602855 \r\nL 72.576307 129.602855 \r\nL 72.576307 149.370128 \r\nL 48.227216 149.370128 \r\nL 48.227216 129.602855 \r\n\" style=\"fill:#8e1d5b;\"/>\r\n    <path clip-path=\"url(#p6906ad2572)\" d=\"M 72.576307 129.602855 \r\nL 96.925398 129.602855 \r\nL 96.925398 149.370128 \r\nL 72.576307 149.370128 \r\nL 72.576307 129.602855 \r\n\" style=\"fill:#871e5b;\"/>\r\n    <path clip-path=\"url(#p6906ad2572)\" d=\"M 96.925398 129.602855 \r\nL 121.274489 129.602855 \r\nL 121.274489 149.370128 \r\nL 96.925398 149.370128 \r\nL 96.925398 129.602855 \r\n\" style=\"fill:#381a40;\"/>\r\n    <path clip-path=\"url(#p6906ad2572)\" d=\"M 121.274489 129.602855 \r\nL 145.62358 129.602855 \r\nL 145.62358 149.370128 \r\nL 121.274489 149.370128 \r\nL 121.274489 129.602855 \r\n\" style=\"fill:#07071d;\"/>\r\n    <path clip-path=\"url(#p6906ad2572)\" d=\"M 145.62358 129.602855 \r\nL 169.97267 129.602855 \r\nL 169.97267 149.370128 \r\nL 145.62358 149.370128 \r\nL 145.62358 129.602855 \r\n\" style=\"fill:#3f1b43;\"/>\r\n    <path clip-path=\"url(#p6906ad2572)\" d=\"M 169.97267 129.602855 \r\nL 194.321761 129.602855 \r\nL 194.321761 149.370128 \r\nL 169.97267 149.370128 \r\nL 169.97267 129.602855 \r\n\" style=\"fill:#faebdd;\"/>\r\n    <path clip-path=\"url(#p6906ad2572)\" d=\"M 194.321761 129.602855 \r\nL 218.670852 129.602855 \r\nL 218.670852 149.370128 \r\nL 194.321761 149.370128 \r\nL 194.321761 129.602855 \r\n\" style=\"fill:#f47d57;\"/>\r\n    <path clip-path=\"url(#p6906ad2572)\" d=\"M 218.670852 129.602855 \r\nL 243.019943 129.602855 \r\nL 243.019943 149.370128 \r\nL 218.670852 149.370128 \r\nL 218.670852 129.602855 \r\n\" style=\"fill:#971c5b;\"/>\r\n    <path clip-path=\"url(#p6906ad2572)\" d=\"M 243.019943 129.602855 \r\nL 267.369034 129.602855 \r\nL 267.369034 149.370128 \r\nL 243.019943 149.370128 \r\nL 243.019943 129.602855 \r\n\" style=\"fill:#601f52;\"/>\r\n    <path clip-path=\"url(#p6906ad2572)\" d=\"M 267.369034 129.602855 \r\nL 291.718125 129.602855 \r\nL 291.718125 149.370128 \r\nL 267.369034 149.370128 \r\nL 267.369034 129.602855 \r\n\" style=\"fill:#951c5b;\"/>\r\n    <path clip-path=\"url(#p6906ad2572)\" d=\"M 23.878125 149.370128 \r\nL 48.227216 149.370128 \r\nL 48.227216 169.137401 \r\nL 23.878125 169.137401 \r\nL 23.878125 149.370128 \r\n\" style=\"fill:#421b45;\"/>\r\n    <path clip-path=\"url(#p6906ad2572)\" d=\"M 48.227216 149.370128 \r\nL 72.576307 149.370128 \r\nL 72.576307 169.137401 \r\nL 48.227216 169.137401 \r\nL 48.227216 149.370128 \r\n\" style=\"fill:#781f59;\"/>\r\n    <path clip-path=\"url(#p6906ad2572)\" d=\"M 72.576307 149.370128 \r\nL 96.925398 149.370128 \r\nL 96.925398 169.137401 \r\nL 72.576307 169.137401 \r\nL 72.576307 149.370128 \r\n\" style=\"fill:#9e1a5b;\"/>\r\n    <path clip-path=\"url(#p6906ad2572)\" d=\"M 96.925398 149.370128 \r\nL 121.274489 149.370128 \r\nL 121.274489 169.137401 \r\nL 96.925398 169.137401 \r\nL 96.925398 149.370128 \r\n\" style=\"fill:#591e50;\"/>\r\n    <path clip-path=\"url(#p6906ad2572)\" d=\"M 121.274489 149.370128 \r\nL 145.62358 149.370128 \r\nL 145.62358 169.137401 \r\nL 121.274489 169.137401 \r\nL 121.274489 149.370128 \r\n\" style=\"fill:#d3214b;\"/>\r\n    <path clip-path=\"url(#p6906ad2572)\" d=\"M 145.62358 149.370128 \r\nL 169.97267 149.370128 \r\nL 169.97267 169.137401 \r\nL 145.62358 169.137401 \r\nL 145.62358 149.370128 \r\n\" style=\"fill:#ef5640;\"/>\r\n    <path clip-path=\"url(#p6906ad2572)\" d=\"M 169.97267 149.370128 \r\nL 194.321761 149.370128 \r\nL 194.321761 169.137401 \r\nL 169.97267 169.137401 \r\nL 169.97267 149.370128 \r\n\" style=\"fill:#f47d57;\"/>\r\n    <path clip-path=\"url(#p6906ad2572)\" d=\"M 194.321761 149.370128 \r\nL 218.670852 149.370128 \r\nL 218.670852 169.137401 \r\nL 194.321761 169.137401 \r\nL 194.321761 149.370128 \r\n\" style=\"fill:#faebdd;\"/>\r\n    <path clip-path=\"url(#p6906ad2572)\" d=\"M 218.670852 149.370128 \r\nL 243.019943 149.370128 \r\nL 243.019943 169.137401 \r\nL 218.670852 169.137401 \r\nL 218.670852 149.370128 \r\n\" style=\"fill:#e8403e;\"/>\r\n    <path clip-path=\"url(#p6906ad2572)\" d=\"M 243.019943 149.370128 \r\nL 267.369034 149.370128 \r\nL 267.369034 169.137401 \r\nL 243.019943 169.137401 \r\nL 243.019943 149.370128 \r\n\" style=\"fill:#9f1a5b;\"/>\r\n    <path clip-path=\"url(#p6906ad2572)\" d=\"M 267.369034 149.370128 \r\nL 291.718125 149.370128 \r\nL 291.718125 169.137401 \r\nL 267.369034 169.137401 \r\nL 267.369034 149.370128 \r\n\" style=\"fill:#a4195b;\"/>\r\n    <path clip-path=\"url(#p6906ad2572)\" d=\"M 23.878125 169.137401 \r\nL 48.227216 169.137401 \r\nL 48.227216 188.904673 \r\nL 23.878125 188.904673 \r\nL 23.878125 169.137401 \r\n\" style=\"fill:#5e1f52;\"/>\r\n    <path clip-path=\"url(#p6906ad2572)\" d=\"M 48.227216 169.137401 \r\nL 72.576307 169.137401 \r\nL 72.576307 188.904673 \r\nL 48.227216 188.904673 \r\nL 48.227216 169.137401 \r\n\" style=\"fill:#2d1738;\"/>\r\n    <path clip-path=\"url(#p6906ad2572)\" d=\"M 72.576307 169.137401 \r\nL 96.925398 169.137401 \r\nL 96.925398 188.904673 \r\nL 72.576307 188.904673 \r\nL 72.576307 169.137401 \r\n\" style=\"fill:#ad1759;\"/>\r\n    <path clip-path=\"url(#p6906ad2572)\" d=\"M 96.925398 169.137401 \r\nL 121.274489 169.137401 \r\nL 121.274489 188.904673 \r\nL 96.925398 188.904673 \r\nL 96.925398 169.137401 \r\n\" style=\"fill:#951c5b;\"/>\r\n    <path clip-path=\"url(#p6906ad2572)\" d=\"M 121.274489 169.137401 \r\nL 145.62358 169.137401 \r\nL 145.62358 188.904673 \r\nL 121.274489 188.904673 \r\nL 121.274489 169.137401 \r\n\" style=\"fill:#ca1a50;\"/>\r\n    <path clip-path=\"url(#p6906ad2572)\" d=\"M 145.62358 169.137401 \r\nL 169.97267 169.137401 \r\nL 169.97267 188.904673 \r\nL 145.62358 188.904673 \r\nL 145.62358 169.137401 \r\n\" style=\"fill:#731f58;\"/>\r\n    <path clip-path=\"url(#p6906ad2572)\" d=\"M 169.97267 169.137401 \r\nL 194.321761 169.137401 \r\nL 194.321761 188.904673 \r\nL 169.97267 188.904673 \r\nL 169.97267 169.137401 \r\n\" style=\"fill:#971c5b;\"/>\r\n    <path clip-path=\"url(#p6906ad2572)\" d=\"M 194.321761 169.137401 \r\nL 218.670852 169.137401 \r\nL 218.670852 188.904673 \r\nL 194.321761 188.904673 \r\nL 194.321761 169.137401 \r\n\" style=\"fill:#e8403e;\"/>\r\n    <path clip-path=\"url(#p6906ad2572)\" d=\"M 218.670852 169.137401 \r\nL 243.019943 169.137401 \r\nL 243.019943 188.904673 \r\nL 218.670852 188.904673 \r\nL 218.670852 169.137401 \r\n\" style=\"fill:#faebdd;\"/>\r\n    <path clip-path=\"url(#p6906ad2572)\" d=\"M 243.019943 169.137401 \r\nL 267.369034 169.137401 \r\nL 267.369034 188.904673 \r\nL 243.019943 188.904673 \r\nL 243.019943 169.137401 \r\n\" style=\"fill:#b41658;\"/>\r\n    <path clip-path=\"url(#p6906ad2572)\" d=\"M 267.369034 169.137401 \r\nL 291.718125 169.137401 \r\nL 291.718125 188.904673 \r\nL 267.369034 188.904673 \r\nL 267.369034 169.137401 \r\n\" style=\"fill:#db2946;\"/>\r\n    <path clip-path=\"url(#p6906ad2572)\" d=\"M 23.878125 188.904673 \r\nL 48.227216 188.904673 \r\nL 48.227216 208.671946 \r\nL 23.878125 208.671946 \r\nL 23.878125 188.904673 \r\n\" style=\"fill:#6b1f56;\"/>\r\n    <path clip-path=\"url(#p6906ad2572)\" d=\"M 48.227216 188.904673 \r\nL 72.576307 188.904673 \r\nL 72.576307 208.671946 \r\nL 48.227216 208.671946 \r\nL 48.227216 188.904673 \r\n\" style=\"fill:#431c46;\"/>\r\n    <path clip-path=\"url(#p6906ad2572)\" d=\"M 72.576307 188.904673 \r\nL 96.925398 188.904673 \r\nL 96.925398 208.671946 \r\nL 72.576307 208.671946 \r\nL 72.576307 188.904673 \r\n\" style=\"fill:#921c5b;\"/>\r\n    <path clip-path=\"url(#p6906ad2572)\" d=\"M 96.925398 188.904673 \r\nL 121.274489 188.904673 \r\nL 121.274489 208.671946 \r\nL 96.925398 208.671946 \r\nL 96.925398 188.904673 \r\n\" style=\"fill:#931c5b;\"/>\r\n    <path clip-path=\"url(#p6906ad2572)\" d=\"M 121.274489 188.904673 \r\nL 145.62358 188.904673 \r\nL 145.62358 208.671946 \r\nL 121.274489 208.671946 \r\nL 121.274489 188.904673 \r\n\" style=\"fill:#761f58;\"/>\r\n    <path clip-path=\"url(#p6906ad2572)\" d=\"M 145.62358 188.904673 \r\nL 169.97267 188.904673 \r\nL 169.97267 208.671946 \r\nL 145.62358 208.671946 \r\nL 145.62358 188.904673 \r\n\" style=\"fill:#661f54;\"/>\r\n    <path clip-path=\"url(#p6906ad2572)\" d=\"M 169.97267 188.904673 \r\nL 194.321761 188.904673 \r\nL 194.321761 208.671946 \r\nL 169.97267 208.671946 \r\nL 169.97267 188.904673 \r\n\" style=\"fill:#601f52;\"/>\r\n    <path clip-path=\"url(#p6906ad2572)\" d=\"M 194.321761 188.904673 \r\nL 218.670852 188.904673 \r\nL 218.670852 208.671946 \r\nL 194.321761 208.671946 \r\nL 194.321761 188.904673 \r\n\" style=\"fill:#9f1a5b;\"/>\r\n    <path clip-path=\"url(#p6906ad2572)\" d=\"M 218.670852 188.904673 \r\nL 243.019943 188.904673 \r\nL 243.019943 208.671946 \r\nL 218.670852 208.671946 \r\nL 218.670852 188.904673 \r\n\" style=\"fill:#b41658;\"/>\r\n    <path clip-path=\"url(#p6906ad2572)\" d=\"M 243.019943 188.904673 \r\nL 267.369034 188.904673 \r\nL 267.369034 208.671946 \r\nL 243.019943 208.671946 \r\nL 243.019943 188.904673 \r\n\" style=\"fill:#faebdd;\"/>\r\n    <path clip-path=\"url(#p6906ad2572)\" d=\"M 267.369034 188.904673 \r\nL 291.718125 188.904673 \r\nL 291.718125 208.671946 \r\nL 267.369034 208.671946 \r\nL 267.369034 188.904673 \r\n\" style=\"fill:#901d5b;\"/>\r\n    <path clip-path=\"url(#p6906ad2572)\" d=\"M 23.878125 208.671946 \r\nL 48.227216 208.671946 \r\nL 48.227216 228.439219 \r\nL 23.878125 228.439219 \r\nL 23.878125 208.671946 \r\n\" style=\"fill:#3c1a42;\"/>\r\n    <path clip-path=\"url(#p6906ad2572)\" d=\"M 48.227216 208.671946 \r\nL 72.576307 208.671946 \r\nL 72.576307 228.439219 \r\nL 48.227216 228.439219 \r\nL 48.227216 208.671946 \r\n\" style=\"fill:#05061b;\"/>\r\n    <path clip-path=\"url(#p6906ad2572)\" d=\"M 72.576307 208.671946 \r\nL 96.925398 208.671946 \r\nL 96.925398 228.439219 \r\nL 72.576307 228.439219 \r\nL 72.576307 208.671946 \r\n\" style=\"fill:#e13342;\"/>\r\n    <path clip-path=\"url(#p6906ad2572)\" d=\"M 96.925398 208.671946 \r\nL 121.274489 208.671946 \r\nL 121.274489 228.439219 \r\nL 96.925398 228.439219 \r\nL 96.925398 208.671946 \r\n\" style=\"fill:#aa185a;\"/>\r\n    <path clip-path=\"url(#p6906ad2572)\" d=\"M 121.274489 208.671946 \r\nL 145.62358 208.671946 \r\nL 145.62358 228.439219 \r\nL 121.274489 228.439219 \r\nL 121.274489 208.671946 \r\n\" style=\"fill:#451c47;\"/>\r\n    <path clip-path=\"url(#p6906ad2572)\" d=\"M 145.62358 208.671946 \r\nL 169.97267 208.671946 \r\nL 169.97267 228.439219 \r\nL 145.62358 228.439219 \r\nL 145.62358 208.671946 \r\n\" style=\"fill:#35193e;\"/>\r\n    <path clip-path=\"url(#p6906ad2572)\" d=\"M 169.97267 208.671946 \r\nL 194.321761 208.671946 \r\nL 194.321761 228.439219 \r\nL 169.97267 228.439219 \r\nL 169.97267 208.671946 \r\n\" style=\"fill:#951c5b;\"/>\r\n    <path clip-path=\"url(#p6906ad2572)\" d=\"M 194.321761 208.671946 \r\nL 218.670852 208.671946 \r\nL 218.670852 228.439219 \r\nL 194.321761 228.439219 \r\nL 194.321761 208.671946 \r\n\" style=\"fill:#a4195b;\"/>\r\n    <path clip-path=\"url(#p6906ad2572)\" d=\"M 218.670852 208.671946 \r\nL 243.019943 208.671946 \r\nL 243.019943 228.439219 \r\nL 218.670852 228.439219 \r\nL 218.670852 208.671946 \r\n\" style=\"fill:#db2946;\"/>\r\n    <path clip-path=\"url(#p6906ad2572)\" d=\"M 243.019943 208.671946 \r\nL 267.369034 208.671946 \r\nL 267.369034 228.439219 \r\nL 243.019943 228.439219 \r\nL 243.019943 208.671946 \r\n\" style=\"fill:#901d5b;\"/>\r\n    <path clip-path=\"url(#p6906ad2572)\" d=\"M 267.369034 208.671946 \r\nL 291.718125 208.671946 \r\nL 291.718125 228.439219 \r\nL 267.369034 228.439219 \r\nL 267.369034 208.671946 \r\n\" style=\"fill:#faebdd;\"/>\r\n   </g>\r\n   <g id=\"matplotlib.axis_1\">\r\n    <g id=\"xtick_1\">\r\n     <g id=\"line2d_1\">\r\n      <defs>\r\n       <path d=\"M 0 0 \r\nL 0 3.5 \r\n\" id=\"m5e3bc8125e\" style=\"stroke:#000000;stroke-width:0.8;\"/>\r\n      </defs>\r\n      <g>\r\n       <use style=\"stroke:#000000;stroke-width:0.8;\" x=\"36.05267\" xlink:href=\"#m5e3bc8125e\" y=\"228.439219\"/>\r\n      </g>\r\n     </g>\r\n     <g id=\"text_1\">\r\n      <!-- age -->\r\n      <defs>\r\n       <path d=\"M 34.28125 27.484375 \r\nQ 23.390625 27.484375 19.1875 25 \r\nQ 14.984375 22.515625 14.984375 16.5 \r\nQ 14.984375 11.71875 18.140625 8.90625 \r\nQ 21.296875 6.109375 26.703125 6.109375 \r\nQ 34.1875 6.109375 38.703125 11.40625 \r\nQ 43.21875 16.703125 43.21875 25.484375 \r\nL 43.21875 27.484375 \r\nz\r\nM 52.203125 31.203125 \r\nL 52.203125 0 \r\nL 43.21875 0 \r\nL 43.21875 8.296875 \r\nQ 40.140625 3.328125 35.546875 0.953125 \r\nQ 30.953125 -1.421875 24.3125 -1.421875 \r\nQ 15.921875 -1.421875 10.953125 3.296875 \r\nQ 6 8.015625 6 15.921875 \r\nQ 6 25.140625 12.171875 29.828125 \r\nQ 18.359375 34.515625 30.609375 34.515625 \r\nL 43.21875 34.515625 \r\nL 43.21875 35.40625 \r\nQ 43.21875 41.609375 39.140625 45 \r\nQ 35.0625 48.390625 27.6875 48.390625 \r\nQ 23 48.390625 18.546875 47.265625 \r\nQ 14.109375 46.140625 10.015625 43.890625 \r\nL 10.015625 52.203125 \r\nQ 14.9375 54.109375 19.578125 55.046875 \r\nQ 24.21875 56 28.609375 56 \r\nQ 40.484375 56 46.34375 49.84375 \r\nQ 52.203125 43.703125 52.203125 31.203125 \r\nz\r\n\" id=\"DejaVuSans-97\"/>\r\n       <path d=\"M 45.40625 27.984375 \r\nQ 45.40625 37.75 41.375 43.109375 \r\nQ 37.359375 48.484375 30.078125 48.484375 \r\nQ 22.859375 48.484375 18.828125 43.109375 \r\nQ 14.796875 37.75 14.796875 27.984375 \r\nQ 14.796875 18.265625 18.828125 12.890625 \r\nQ 22.859375 7.515625 30.078125 7.515625 \r\nQ 37.359375 7.515625 41.375 12.890625 \r\nQ 45.40625 18.265625 45.40625 27.984375 \r\nz\r\nM 54.390625 6.78125 \r\nQ 54.390625 -7.171875 48.1875 -13.984375 \r\nQ 42 -20.796875 29.203125 -20.796875 \r\nQ 24.46875 -20.796875 20.265625 -20.09375 \r\nQ 16.0625 -19.390625 12.109375 -17.921875 \r\nL 12.109375 -9.1875 \r\nQ 16.0625 -11.328125 19.921875 -12.34375 \r\nQ 23.78125 -13.375 27.78125 -13.375 \r\nQ 36.625 -13.375 41.015625 -8.765625 \r\nQ 45.40625 -4.15625 45.40625 5.171875 \r\nL 45.40625 9.625 \r\nQ 42.625 4.78125 38.28125 2.390625 \r\nQ 33.9375 0 27.875 0 \r\nQ 17.828125 0 11.671875 7.65625 \r\nQ 5.515625 15.328125 5.515625 27.984375 \r\nQ 5.515625 40.671875 11.671875 48.328125 \r\nQ 17.828125 56 27.875 56 \r\nQ 33.9375 56 38.28125 53.609375 \r\nQ 42.625 51.21875 45.40625 46.390625 \r\nL 45.40625 54.6875 \r\nL 54.390625 54.6875 \r\nz\r\n\" id=\"DejaVuSans-103\"/>\r\n       <path d=\"M 56.203125 29.59375 \r\nL 56.203125 25.203125 \r\nL 14.890625 25.203125 \r\nQ 15.484375 15.921875 20.484375 11.0625 \r\nQ 25.484375 6.203125 34.421875 6.203125 \r\nQ 39.59375 6.203125 44.453125 7.46875 \r\nQ 49.3125 8.734375 54.109375 11.28125 \r\nL 54.109375 2.78125 \r\nQ 49.265625 0.734375 44.1875 -0.34375 \r\nQ 39.109375 -1.421875 33.890625 -1.421875 \r\nQ 20.796875 -1.421875 13.15625 6.1875 \r\nQ 5.515625 13.8125 5.515625 26.8125 \r\nQ 5.515625 40.234375 12.765625 48.109375 \r\nQ 20.015625 56 32.328125 56 \r\nQ 43.359375 56 49.78125 48.890625 \r\nQ 56.203125 41.796875 56.203125 29.59375 \r\nz\r\nM 47.21875 32.234375 \r\nQ 47.125 39.59375 43.09375 43.984375 \r\nQ 39.0625 48.390625 32.421875 48.390625 \r\nQ 24.90625 48.390625 20.390625 44.140625 \r\nQ 15.875 39.890625 15.1875 32.171875 \r\nz\r\n\" id=\"DejaVuSans-101\"/>\r\n      </defs>\r\n      <g transform=\"translate(26.737827 243.037656)scale(0.1 -0.1)\">\r\n       <use xlink:href=\"#DejaVuSans-97\"/>\r\n       <use x=\"61.279297\" xlink:href=\"#DejaVuSans-103\"/>\r\n       <use x=\"124.755859\" xlink:href=\"#DejaVuSans-101\"/>\r\n      </g>\r\n     </g>\r\n    </g>\r\n    <g id=\"xtick_2\">\r\n     <g id=\"line2d_2\">\r\n      <g>\r\n       <use style=\"stroke:#000000;stroke-width:0.8;\" x=\"60.401761\" xlink:href=\"#m5e3bc8125e\" y=\"228.439219\"/>\r\n      </g>\r\n     </g>\r\n     <g id=\"text_2\">\r\n      <!-- sex -->\r\n      <defs>\r\n       <path d=\"M 44.28125 53.078125 \r\nL 44.28125 44.578125 \r\nQ 40.484375 46.53125 36.375 47.5 \r\nQ 32.28125 48.484375 27.875 48.484375 \r\nQ 21.1875 48.484375 17.84375 46.4375 \r\nQ 14.5 44.390625 14.5 40.28125 \r\nQ 14.5 37.15625 16.890625 35.375 \r\nQ 19.28125 33.59375 26.515625 31.984375 \r\nL 29.59375 31.296875 \r\nQ 39.15625 29.25 43.1875 25.515625 \r\nQ 47.21875 21.78125 47.21875 15.09375 \r\nQ 47.21875 7.46875 41.1875 3.015625 \r\nQ 35.15625 -1.421875 24.609375 -1.421875 \r\nQ 20.21875 -1.421875 15.453125 -0.5625 \r\nQ 10.6875 0.296875 5.421875 2 \r\nL 5.421875 11.28125 \r\nQ 10.40625 8.6875 15.234375 7.390625 \r\nQ 20.0625 6.109375 24.8125 6.109375 \r\nQ 31.15625 6.109375 34.5625 8.28125 \r\nQ 37.984375 10.453125 37.984375 14.40625 \r\nQ 37.984375 18.0625 35.515625 20.015625 \r\nQ 33.0625 21.96875 24.703125 23.78125 \r\nL 21.578125 24.515625 \r\nQ 13.234375 26.265625 9.515625 29.90625 \r\nQ 5.8125 33.546875 5.8125 39.890625 \r\nQ 5.8125 47.609375 11.28125 51.796875 \r\nQ 16.75 56 26.8125 56 \r\nQ 31.78125 56 36.171875 55.265625 \r\nQ 40.578125 54.546875 44.28125 53.078125 \r\nz\r\n\" id=\"DejaVuSans-115\"/>\r\n       <path d=\"M 54.890625 54.6875 \r\nL 35.109375 28.078125 \r\nL 55.90625 0 \r\nL 45.3125 0 \r\nL 29.390625 21.484375 \r\nL 13.484375 0 \r\nL 2.875 0 \r\nL 24.125 28.609375 \r\nL 4.6875 54.6875 \r\nL 15.28125 54.6875 \r\nL 29.78125 35.203125 \r\nL 44.28125 54.6875 \r\nz\r\n\" id=\"DejaVuSans-120\"/>\r\n      </defs>\r\n      <g transform=\"translate(51.761918 243.037656)scale(0.1 -0.1)\">\r\n       <use xlink:href=\"#DejaVuSans-115\"/>\r\n       <use x=\"52.099609\" xlink:href=\"#DejaVuSans-101\"/>\r\n       <use x=\"113.607422\" xlink:href=\"#DejaVuSans-120\"/>\r\n      </g>\r\n     </g>\r\n    </g>\r\n    <g id=\"xtick_3\">\r\n     <g id=\"line2d_3\">\r\n      <g>\r\n       <use style=\"stroke:#000000;stroke-width:0.8;\" x=\"84.750852\" xlink:href=\"#m5e3bc8125e\" y=\"228.439219\"/>\r\n      </g>\r\n     </g>\r\n     <g id=\"text_3\">\r\n      <!-- bmi -->\r\n      <defs>\r\n       <path d=\"M 48.6875 27.296875 \r\nQ 48.6875 37.203125 44.609375 42.84375 \r\nQ 40.53125 48.484375 33.40625 48.484375 \r\nQ 26.265625 48.484375 22.1875 42.84375 \r\nQ 18.109375 37.203125 18.109375 27.296875 \r\nQ 18.109375 17.390625 22.1875 11.75 \r\nQ 26.265625 6.109375 33.40625 6.109375 \r\nQ 40.53125 6.109375 44.609375 11.75 \r\nQ 48.6875 17.390625 48.6875 27.296875 \r\nz\r\nM 18.109375 46.390625 \r\nQ 20.953125 51.265625 25.265625 53.625 \r\nQ 29.59375 56 35.59375 56 \r\nQ 45.5625 56 51.78125 48.09375 \r\nQ 58.015625 40.1875 58.015625 27.296875 \r\nQ 58.015625 14.40625 51.78125 6.484375 \r\nQ 45.5625 -1.421875 35.59375 -1.421875 \r\nQ 29.59375 -1.421875 25.265625 0.953125 \r\nQ 20.953125 3.328125 18.109375 8.203125 \r\nL 18.109375 0 \r\nL 9.078125 0 \r\nL 9.078125 75.984375 \r\nL 18.109375 75.984375 \r\nz\r\n\" id=\"DejaVuSans-98\"/>\r\n       <path d=\"M 52 44.1875 \r\nQ 55.375 50.25 60.0625 53.125 \r\nQ 64.75 56 71.09375 56 \r\nQ 79.640625 56 84.28125 50.015625 \r\nQ 88.921875 44.046875 88.921875 33.015625 \r\nL 88.921875 0 \r\nL 79.890625 0 \r\nL 79.890625 32.71875 \r\nQ 79.890625 40.578125 77.09375 44.375 \r\nQ 74.3125 48.1875 68.609375 48.1875 \r\nQ 61.625 48.1875 57.5625 43.546875 \r\nQ 53.515625 38.921875 53.515625 30.90625 \r\nL 53.515625 0 \r\nL 44.484375 0 \r\nL 44.484375 32.71875 \r\nQ 44.484375 40.625 41.703125 44.40625 \r\nQ 38.921875 48.1875 33.109375 48.1875 \r\nQ 26.21875 48.1875 22.15625 43.53125 \r\nQ 18.109375 38.875 18.109375 30.90625 \r\nL 18.109375 0 \r\nL 9.078125 0 \r\nL 9.078125 54.6875 \r\nL 18.109375 54.6875 \r\nL 18.109375 46.1875 \r\nQ 21.1875 51.21875 25.484375 53.609375 \r\nQ 29.78125 56 35.6875 56 \r\nQ 41.65625 56 45.828125 52.96875 \r\nQ 50 49.953125 52 44.1875 \r\nz\r\n\" id=\"DejaVuSans-109\"/>\r\n       <path d=\"M 9.421875 54.6875 \r\nL 18.40625 54.6875 \r\nL 18.40625 0 \r\nL 9.421875 0 \r\nz\r\nM 9.421875 75.984375 \r\nL 18.40625 75.984375 \r\nL 18.40625 64.59375 \r\nL 9.421875 64.59375 \r\nz\r\n\" id=\"DejaVuSans-105\"/>\r\n      </defs>\r\n      <g transform=\"translate(75.317259 243.037656)scale(0.1 -0.1)\">\r\n       <use xlink:href=\"#DejaVuSans-98\"/>\r\n       <use x=\"63.476562\" xlink:href=\"#DejaVuSans-109\"/>\r\n       <use x=\"160.888672\" xlink:href=\"#DejaVuSans-105\"/>\r\n      </g>\r\n     </g>\r\n    </g>\r\n    <g id=\"xtick_4\">\r\n     <g id=\"line2d_4\">\r\n      <g>\r\n       <use style=\"stroke:#000000;stroke-width:0.8;\" x=\"109.099943\" xlink:href=\"#m5e3bc8125e\" y=\"228.439219\"/>\r\n      </g>\r\n     </g>\r\n     <g id=\"text_4\">\r\n      <!-- bp -->\r\n      <defs>\r\n       <path d=\"M 18.109375 8.203125 \r\nL 18.109375 -20.796875 \r\nL 9.078125 -20.796875 \r\nL 9.078125 54.6875 \r\nL 18.109375 54.6875 \r\nL 18.109375 46.390625 \r\nQ 20.953125 51.265625 25.265625 53.625 \r\nQ 29.59375 56 35.59375 56 \r\nQ 45.5625 56 51.78125 48.09375 \r\nQ 58.015625 40.1875 58.015625 27.296875 \r\nQ 58.015625 14.40625 51.78125 6.484375 \r\nQ 45.5625 -1.421875 35.59375 -1.421875 \r\nQ 29.59375 -1.421875 25.265625 0.953125 \r\nQ 20.953125 3.328125 18.109375 8.203125 \r\nz\r\nM 48.6875 27.296875 \r\nQ 48.6875 37.203125 44.609375 42.84375 \r\nQ 40.53125 48.484375 33.40625 48.484375 \r\nQ 26.265625 48.484375 22.1875 42.84375 \r\nQ 18.109375 37.203125 18.109375 27.296875 \r\nQ 18.109375 17.390625 22.1875 11.75 \r\nQ 26.265625 6.109375 33.40625 6.109375 \r\nQ 40.53125 6.109375 44.609375 11.75 \r\nQ 48.6875 17.390625 48.6875 27.296875 \r\nz\r\n\" id=\"DejaVuSans-112\"/>\r\n      </defs>\r\n      <g transform=\"translate(102.751506 243.037656)scale(0.1 -0.1)\">\r\n       <use xlink:href=\"#DejaVuSans-98\"/>\r\n       <use x=\"63.476562\" xlink:href=\"#DejaVuSans-112\"/>\r\n      </g>\r\n     </g>\r\n    </g>\r\n    <g id=\"xtick_5\">\r\n     <g id=\"line2d_5\">\r\n      <g>\r\n       <use style=\"stroke:#000000;stroke-width:0.8;\" x=\"133.449034\" xlink:href=\"#m5e3bc8125e\" y=\"228.439219\"/>\r\n      </g>\r\n     </g>\r\n     <g id=\"text_5\">\r\n      <!-- s1 -->\r\n      <defs>\r\n       <path d=\"M 12.40625 8.296875 \r\nL 28.515625 8.296875 \r\nL 28.515625 63.921875 \r\nL 10.984375 60.40625 \r\nL 10.984375 69.390625 \r\nL 28.421875 72.90625 \r\nL 38.28125 72.90625 \r\nL 38.28125 8.296875 \r\nL 54.390625 8.296875 \r\nL 54.390625 0 \r\nL 12.40625 0 \r\nz\r\n\" id=\"DejaVuSans-49\"/>\r\n      </defs>\r\n      <g transform=\"translate(127.663097 243.037656)scale(0.1 -0.1)\">\r\n       <use xlink:href=\"#DejaVuSans-115\"/>\r\n       <use x=\"52.099609\" xlink:href=\"#DejaVuSans-49\"/>\r\n      </g>\r\n     </g>\r\n    </g>\r\n    <g id=\"xtick_6\">\r\n     <g id=\"line2d_6\">\r\n      <g>\r\n       <use style=\"stroke:#000000;stroke-width:0.8;\" x=\"157.798125\" xlink:href=\"#m5e3bc8125e\" y=\"228.439219\"/>\r\n      </g>\r\n     </g>\r\n     <g id=\"text_6\">\r\n      <!-- s2 -->\r\n      <defs>\r\n       <path d=\"M 19.1875 8.296875 \r\nL 53.609375 8.296875 \r\nL 53.609375 0 \r\nL 7.328125 0 \r\nL 7.328125 8.296875 \r\nQ 12.9375 14.109375 22.625 23.890625 \r\nQ 32.328125 33.6875 34.8125 36.53125 \r\nQ 39.546875 41.84375 41.421875 45.53125 \r\nQ 43.3125 49.21875 43.3125 52.78125 \r\nQ 43.3125 58.59375 39.234375 62.25 \r\nQ 35.15625 65.921875 28.609375 65.921875 \r\nQ 23.96875 65.921875 18.8125 64.3125 \r\nQ 13.671875 62.703125 7.8125 59.421875 \r\nL 7.8125 69.390625 \r\nQ 13.765625 71.78125 18.9375 73 \r\nQ 24.125 74.21875 28.421875 74.21875 \r\nQ 39.75 74.21875 46.484375 68.546875 \r\nQ 53.21875 62.890625 53.21875 53.421875 \r\nQ 53.21875 48.921875 51.53125 44.890625 \r\nQ 49.859375 40.875 45.40625 35.40625 \r\nQ 44.1875 33.984375 37.640625 27.21875 \r\nQ 31.109375 20.453125 19.1875 8.296875 \r\nz\r\n\" id=\"DejaVuSans-50\"/>\r\n      </defs>\r\n      <g transform=\"translate(152.012188 243.037656)scale(0.1 -0.1)\">\r\n       <use xlink:href=\"#DejaVuSans-115\"/>\r\n       <use x=\"52.099609\" xlink:href=\"#DejaVuSans-50\"/>\r\n      </g>\r\n     </g>\r\n    </g>\r\n    <g id=\"xtick_7\">\r\n     <g id=\"line2d_7\">\r\n      <g>\r\n       <use style=\"stroke:#000000;stroke-width:0.8;\" x=\"182.147216\" xlink:href=\"#m5e3bc8125e\" y=\"228.439219\"/>\r\n      </g>\r\n     </g>\r\n     <g id=\"text_7\">\r\n      <!-- s3 -->\r\n      <defs>\r\n       <path d=\"M 40.578125 39.3125 \r\nQ 47.65625 37.796875 51.625 33 \r\nQ 55.609375 28.21875 55.609375 21.1875 \r\nQ 55.609375 10.40625 48.1875 4.484375 \r\nQ 40.765625 -1.421875 27.09375 -1.421875 \r\nQ 22.515625 -1.421875 17.65625 -0.515625 \r\nQ 12.796875 0.390625 7.625 2.203125 \r\nL 7.625 11.71875 \r\nQ 11.71875 9.328125 16.59375 8.109375 \r\nQ 21.484375 6.890625 26.8125 6.890625 \r\nQ 36.078125 6.890625 40.9375 10.546875 \r\nQ 45.796875 14.203125 45.796875 21.1875 \r\nQ 45.796875 27.640625 41.28125 31.265625 \r\nQ 36.765625 34.90625 28.71875 34.90625 \r\nL 20.21875 34.90625 \r\nL 20.21875 43.015625 \r\nL 29.109375 43.015625 \r\nQ 36.375 43.015625 40.234375 45.921875 \r\nQ 44.09375 48.828125 44.09375 54.296875 \r\nQ 44.09375 59.90625 40.109375 62.90625 \r\nQ 36.140625 65.921875 28.71875 65.921875 \r\nQ 24.65625 65.921875 20.015625 65.03125 \r\nQ 15.375 64.15625 9.8125 62.3125 \r\nL 9.8125 71.09375 \r\nQ 15.4375 72.65625 20.34375 73.4375 \r\nQ 25.25 74.21875 29.59375 74.21875 \r\nQ 40.828125 74.21875 47.359375 69.109375 \r\nQ 53.90625 64.015625 53.90625 55.328125 \r\nQ 53.90625 49.265625 50.4375 45.09375 \r\nQ 46.96875 40.921875 40.578125 39.3125 \r\nz\r\n\" id=\"DejaVuSans-51\"/>\r\n      </defs>\r\n      <g transform=\"translate(176.361278 243.037656)scale(0.1 -0.1)\">\r\n       <use xlink:href=\"#DejaVuSans-115\"/>\r\n       <use x=\"52.099609\" xlink:href=\"#DejaVuSans-51\"/>\r\n      </g>\r\n     </g>\r\n    </g>\r\n    <g id=\"xtick_8\">\r\n     <g id=\"line2d_8\">\r\n      <g>\r\n       <use style=\"stroke:#000000;stroke-width:0.8;\" x=\"206.496307\" xlink:href=\"#m5e3bc8125e\" y=\"228.439219\"/>\r\n      </g>\r\n     </g>\r\n     <g id=\"text_8\">\r\n      <!-- s4 -->\r\n      <defs>\r\n       <path d=\"M 37.796875 64.3125 \r\nL 12.890625 25.390625 \r\nL 37.796875 25.390625 \r\nz\r\nM 35.203125 72.90625 \r\nL 47.609375 72.90625 \r\nL 47.609375 25.390625 \r\nL 58.015625 25.390625 \r\nL 58.015625 17.1875 \r\nL 47.609375 17.1875 \r\nL 47.609375 0 \r\nL 37.796875 0 \r\nL 37.796875 17.1875 \r\nL 4.890625 17.1875 \r\nL 4.890625 26.703125 \r\nz\r\n\" id=\"DejaVuSans-52\"/>\r\n      </defs>\r\n      <g transform=\"translate(200.710369 243.037656)scale(0.1 -0.1)\">\r\n       <use xlink:href=\"#DejaVuSans-115\"/>\r\n       <use x=\"52.099609\" xlink:href=\"#DejaVuSans-52\"/>\r\n      </g>\r\n     </g>\r\n    </g>\r\n    <g id=\"xtick_9\">\r\n     <g id=\"line2d_9\">\r\n      <g>\r\n       <use style=\"stroke:#000000;stroke-width:0.8;\" x=\"230.845398\" xlink:href=\"#m5e3bc8125e\" y=\"228.439219\"/>\r\n      </g>\r\n     </g>\r\n     <g id=\"text_9\">\r\n      <!-- s5 -->\r\n      <defs>\r\n       <path d=\"M 10.796875 72.90625 \r\nL 49.515625 72.90625 \r\nL 49.515625 64.59375 \r\nL 19.828125 64.59375 \r\nL 19.828125 46.734375 \r\nQ 21.96875 47.46875 24.109375 47.828125 \r\nQ 26.265625 48.1875 28.421875 48.1875 \r\nQ 40.625 48.1875 47.75 41.5 \r\nQ 54.890625 34.8125 54.890625 23.390625 \r\nQ 54.890625 11.625 47.5625 5.09375 \r\nQ 40.234375 -1.421875 26.90625 -1.421875 \r\nQ 22.3125 -1.421875 17.546875 -0.640625 \r\nQ 12.796875 0.140625 7.71875 1.703125 \r\nL 7.71875 11.625 \r\nQ 12.109375 9.234375 16.796875 8.0625 \r\nQ 21.484375 6.890625 26.703125 6.890625 \r\nQ 35.15625 6.890625 40.078125 11.328125 \r\nQ 45.015625 15.765625 45.015625 23.390625 \r\nQ 45.015625 31 40.078125 35.4375 \r\nQ 35.15625 39.890625 26.703125 39.890625 \r\nQ 22.75 39.890625 18.8125 39.015625 \r\nQ 14.890625 38.140625 10.796875 36.28125 \r\nz\r\n\" id=\"DejaVuSans-53\"/>\r\n      </defs>\r\n      <g transform=\"translate(225.05946 243.037656)scale(0.1 -0.1)\">\r\n       <use xlink:href=\"#DejaVuSans-115\"/>\r\n       <use x=\"52.099609\" xlink:href=\"#DejaVuSans-53\"/>\r\n      </g>\r\n     </g>\r\n    </g>\r\n    <g id=\"xtick_10\">\r\n     <g id=\"line2d_10\">\r\n      <g>\r\n       <use style=\"stroke:#000000;stroke-width:0.8;\" x=\"255.194489\" xlink:href=\"#m5e3bc8125e\" y=\"228.439219\"/>\r\n      </g>\r\n     </g>\r\n     <g id=\"text_10\">\r\n      <!-- s6 -->\r\n      <defs>\r\n       <path d=\"M 33.015625 40.375 \r\nQ 26.375 40.375 22.484375 35.828125 \r\nQ 18.609375 31.296875 18.609375 23.390625 \r\nQ 18.609375 15.53125 22.484375 10.953125 \r\nQ 26.375 6.390625 33.015625 6.390625 \r\nQ 39.65625 6.390625 43.53125 10.953125 \r\nQ 47.40625 15.53125 47.40625 23.390625 \r\nQ 47.40625 31.296875 43.53125 35.828125 \r\nQ 39.65625 40.375 33.015625 40.375 \r\nz\r\nM 52.59375 71.296875 \r\nL 52.59375 62.3125 \r\nQ 48.875 64.0625 45.09375 64.984375 \r\nQ 41.3125 65.921875 37.59375 65.921875 \r\nQ 27.828125 65.921875 22.671875 59.328125 \r\nQ 17.53125 52.734375 16.796875 39.40625 \r\nQ 19.671875 43.65625 24.015625 45.921875 \r\nQ 28.375 48.1875 33.59375 48.1875 \r\nQ 44.578125 48.1875 50.953125 41.515625 \r\nQ 57.328125 34.859375 57.328125 23.390625 \r\nQ 57.328125 12.15625 50.6875 5.359375 \r\nQ 44.046875 -1.421875 33.015625 -1.421875 \r\nQ 20.359375 -1.421875 13.671875 8.265625 \r\nQ 6.984375 17.96875 6.984375 36.375 \r\nQ 6.984375 53.65625 15.1875 63.9375 \r\nQ 23.390625 74.21875 37.203125 74.21875 \r\nQ 40.921875 74.21875 44.703125 73.484375 \r\nQ 48.484375 72.75 52.59375 71.296875 \r\nz\r\n\" id=\"DejaVuSans-54\"/>\r\n      </defs>\r\n      <g transform=\"translate(249.408551 243.037656)scale(0.1 -0.1)\">\r\n       <use xlink:href=\"#DejaVuSans-115\"/>\r\n       <use x=\"52.099609\" xlink:href=\"#DejaVuSans-54\"/>\r\n      </g>\r\n     </g>\r\n    </g>\r\n    <g id=\"xtick_11\">\r\n     <g id=\"line2d_11\">\r\n      <g>\r\n       <use style=\"stroke:#000000;stroke-width:0.8;\" x=\"279.54358\" xlink:href=\"#m5e3bc8125e\" y=\"228.439219\"/>\r\n      </g>\r\n     </g>\r\n     <g id=\"text_11\">\r\n      <!-- target -->\r\n      <defs>\r\n       <path d=\"M 18.3125 70.21875 \r\nL 18.3125 54.6875 \r\nL 36.8125 54.6875 \r\nL 36.8125 47.703125 \r\nL 18.3125 47.703125 \r\nL 18.3125 18.015625 \r\nQ 18.3125 11.328125 20.140625 9.421875 \r\nQ 21.96875 7.515625 27.59375 7.515625 \r\nL 36.8125 7.515625 \r\nL 36.8125 0 \r\nL 27.59375 0 \r\nQ 17.1875 0 13.234375 3.875 \r\nQ 9.28125 7.765625 9.28125 18.015625 \r\nL 9.28125 47.703125 \r\nL 2.6875 47.703125 \r\nL 2.6875 54.6875 \r\nL 9.28125 54.6875 \r\nL 9.28125 70.21875 \r\nz\r\n\" id=\"DejaVuSans-116\"/>\r\n       <path d=\"M 41.109375 46.296875 \r\nQ 39.59375 47.171875 37.8125 47.578125 \r\nQ 36.03125 48 33.890625 48 \r\nQ 26.265625 48 22.1875 43.046875 \r\nQ 18.109375 38.09375 18.109375 28.8125 \r\nL 18.109375 0 \r\nL 9.078125 0 \r\nL 9.078125 54.6875 \r\nL 18.109375 54.6875 \r\nL 18.109375 46.1875 \r\nQ 20.953125 51.171875 25.484375 53.578125 \r\nQ 30.03125 56 36.53125 56 \r\nQ 37.453125 56 38.578125 55.875 \r\nQ 39.703125 55.765625 41.0625 55.515625 \r\nz\r\n\" id=\"DejaVuSans-114\"/>\r\n      </defs>\r\n      <g transform=\"translate(264.253736 243.037656)scale(0.1 -0.1)\">\r\n       <use xlink:href=\"#DejaVuSans-116\"/>\r\n       <use x=\"39.208984\" xlink:href=\"#DejaVuSans-97\"/>\r\n       <use x=\"100.488281\" xlink:href=\"#DejaVuSans-114\"/>\r\n       <use x=\"141.585938\" xlink:href=\"#DejaVuSans-103\"/>\r\n       <use x=\"205.0625\" xlink:href=\"#DejaVuSans-101\"/>\r\n       <use x=\"266.585938\" xlink:href=\"#DejaVuSans-116\"/>\r\n      </g>\r\n     </g>\r\n    </g>\r\n   </g>\r\n   <g id=\"matplotlib.axis_2\">\r\n    <g id=\"ytick_1\">\r\n     <g id=\"line2d_12\">\r\n      <defs>\r\n       <path d=\"M 0 0 \r\nL -3.5 0 \r\n\" id=\"m4b644249ae\" style=\"stroke:#000000;stroke-width:0.8;\"/>\r\n      </defs>\r\n      <g>\r\n       <use style=\"stroke:#000000;stroke-width:0.8;\" x=\"23.878125\" xlink:href=\"#m4b644249ae\" y=\"20.882855\"/>\r\n      </g>\r\n     </g>\r\n     <g id=\"text_12\">\r\n      <!-- age -->\r\n      <g transform=\"translate(14.798437 35.713324)rotate(-90)scale(0.1 -0.1)\">\r\n       <use xlink:href=\"#DejaVuSans-97\"/>\r\n       <use x=\"61.279297\" xlink:href=\"#DejaVuSans-103\"/>\r\n       <use x=\"124.755859\" xlink:href=\"#DejaVuSans-101\"/>\r\n      </g>\r\n     </g>\r\n    </g>\r\n    <g id=\"ytick_2\">\r\n     <g id=\"line2d_13\">\r\n      <g>\r\n       <use style=\"stroke:#000000;stroke-width:0.8;\" x=\"23.878125\" xlink:href=\"#m4b644249ae\" y=\"40.650128\"/>\r\n      </g>\r\n     </g>\r\n     <g id=\"text_13\">\r\n      <!-- sex -->\r\n      <g transform=\"translate(14.798437 54.130597)rotate(-90)scale(0.1 -0.1)\">\r\n       <use xlink:href=\"#DejaVuSans-115\"/>\r\n       <use x=\"52.099609\" xlink:href=\"#DejaVuSans-101\"/>\r\n       <use x=\"113.607422\" xlink:href=\"#DejaVuSans-120\"/>\r\n      </g>\r\n     </g>\r\n    </g>\r\n    <g id=\"ytick_3\">\r\n     <g id=\"line2d_14\">\r\n      <g>\r\n       <use style=\"stroke:#000000;stroke-width:0.8;\" x=\"23.878125\" xlink:href=\"#m4b644249ae\" y=\"60.417401\"/>\r\n      </g>\r\n     </g>\r\n     <g id=\"text_14\">\r\n      <!-- bmi -->\r\n      <g transform=\"translate(14.798437 75.485369)rotate(-90)scale(0.1 -0.1)\">\r\n       <use xlink:href=\"#DejaVuSans-98\"/>\r\n       <use x=\"63.476562\" xlink:href=\"#DejaVuSans-109\"/>\r\n       <use x=\"160.888672\" xlink:href=\"#DejaVuSans-105\"/>\r\n      </g>\r\n     </g>\r\n    </g>\r\n    <g id=\"ytick_4\">\r\n     <g id=\"line2d_15\">\r\n      <g>\r\n       <use style=\"stroke:#000000;stroke-width:0.8;\" x=\"23.878125\" xlink:href=\"#m4b644249ae\" y=\"80.184673\"/>\r\n      </g>\r\n     </g>\r\n     <g id=\"text_15\">\r\n      <!-- bp -->\r\n      <g transform=\"translate(14.798438 89.08233)rotate(-90)scale(0.1 -0.1)\">\r\n       <use xlink:href=\"#DejaVuSans-98\"/>\r\n       <use x=\"63.476562\" xlink:href=\"#DejaVuSans-112\"/>\r\n      </g>\r\n     </g>\r\n    </g>\r\n    <g id=\"ytick_5\">\r\n     <g id=\"line2d_16\">\r\n      <g>\r\n       <use style=\"stroke:#000000;stroke-width:0.8;\" x=\"23.878125\" xlink:href=\"#m4b644249ae\" y=\"99.951946\"/>\r\n      </g>\r\n     </g>\r\n     <g id=\"text_16\">\r\n      <!-- s1 -->\r\n      <g transform=\"translate(14.798438 107.724602)rotate(-90)scale(0.1 -0.1)\">\r\n       <use xlink:href=\"#DejaVuSans-115\"/>\r\n       <use x=\"52.099609\" xlink:href=\"#DejaVuSans-49\"/>\r\n      </g>\r\n     </g>\r\n    </g>\r\n    <g id=\"ytick_6\">\r\n     <g id=\"line2d_17\">\r\n      <g>\r\n       <use style=\"stroke:#000000;stroke-width:0.8;\" x=\"23.878125\" xlink:href=\"#m4b644249ae\" y=\"119.719219\"/>\r\n      </g>\r\n     </g>\r\n     <g id=\"text_17\">\r\n      <!-- s2 -->\r\n      <g transform=\"translate(14.798438 127.491875)rotate(-90)scale(0.1 -0.1)\">\r\n       <use xlink:href=\"#DejaVuSans-115\"/>\r\n       <use x=\"52.099609\" xlink:href=\"#DejaVuSans-50\"/>\r\n      </g>\r\n     </g>\r\n    </g>\r\n    <g id=\"ytick_7\">\r\n     <g id=\"line2d_18\">\r\n      <g>\r\n       <use style=\"stroke:#000000;stroke-width:0.8;\" x=\"23.878125\" xlink:href=\"#m4b644249ae\" y=\"139.486491\"/>\r\n      </g>\r\n     </g>\r\n     <g id=\"text_18\">\r\n      <!-- s3 -->\r\n      <g transform=\"translate(14.798438 147.259148)rotate(-90)scale(0.1 -0.1)\">\r\n       <use xlink:href=\"#DejaVuSans-115\"/>\r\n       <use x=\"52.099609\" xlink:href=\"#DejaVuSans-51\"/>\r\n      </g>\r\n     </g>\r\n    </g>\r\n    <g id=\"ytick_8\">\r\n     <g id=\"line2d_19\">\r\n      <g>\r\n       <use style=\"stroke:#000000;stroke-width:0.8;\" x=\"23.878125\" xlink:href=\"#m4b644249ae\" y=\"159.253764\"/>\r\n      </g>\r\n     </g>\r\n     <g id=\"text_19\">\r\n      <!-- s4 -->\r\n      <g transform=\"translate(14.798438 167.02642)rotate(-90)scale(0.1 -0.1)\">\r\n       <use xlink:href=\"#DejaVuSans-115\"/>\r\n       <use x=\"52.099609\" xlink:href=\"#DejaVuSans-52\"/>\r\n      </g>\r\n     </g>\r\n    </g>\r\n    <g id=\"ytick_9\">\r\n     <g id=\"line2d_20\">\r\n      <g>\r\n       <use style=\"stroke:#000000;stroke-width:0.8;\" x=\"23.878125\" xlink:href=\"#m4b644249ae\" y=\"179.021037\"/>\r\n      </g>\r\n     </g>\r\n     <g id=\"text_20\">\r\n      <!-- s5 -->\r\n      <g transform=\"translate(14.798438 186.793693)rotate(-90)scale(0.1 -0.1)\">\r\n       <use xlink:href=\"#DejaVuSans-115\"/>\r\n       <use x=\"52.099609\" xlink:href=\"#DejaVuSans-53\"/>\r\n      </g>\r\n     </g>\r\n    </g>\r\n    <g id=\"ytick_10\">\r\n     <g id=\"line2d_21\">\r\n      <g>\r\n       <use style=\"stroke:#000000;stroke-width:0.8;\" x=\"23.878125\" xlink:href=\"#m4b644249ae\" y=\"198.78831\"/>\r\n      </g>\r\n     </g>\r\n     <g id=\"text_21\">\r\n      <!-- s6 -->\r\n      <g transform=\"translate(14.798438 206.560966)rotate(-90)scale(0.1 -0.1)\">\r\n       <use xlink:href=\"#DejaVuSans-115\"/>\r\n       <use x=\"52.099609\" xlink:href=\"#DejaVuSans-54\"/>\r\n      </g>\r\n     </g>\r\n    </g>\r\n    <g id=\"ytick_11\">\r\n     <g id=\"line2d_22\">\r\n      <g>\r\n       <use style=\"stroke:#000000;stroke-width:0.8;\" x=\"23.878125\" xlink:href=\"#m4b644249ae\" y=\"218.555582\"/>\r\n      </g>\r\n     </g>\r\n     <g id=\"text_22\">\r\n      <!-- target -->\r\n      <g transform=\"translate(14.798437 245.336051)rotate(-90)scale(0.1 -0.1)\">\r\n       <use xlink:href=\"#DejaVuSans-116\"/>\r\n       <use x=\"39.208984\" xlink:href=\"#DejaVuSans-97\"/>\r\n       <use x=\"100.488281\" xlink:href=\"#DejaVuSans-114\"/>\r\n       <use x=\"141.585938\" xlink:href=\"#DejaVuSans-103\"/>\r\n       <use x=\"205.0625\" xlink:href=\"#DejaVuSans-101\"/>\r\n       <use x=\"266.585938\" xlink:href=\"#DejaVuSans-116\"/>\r\n      </g>\r\n     </g>\r\n    </g>\r\n   </g>\r\n  </g>\r\n  <g id=\"axes_2\">\r\n   <g id=\"patch_3\">\r\n    <path clip-path=\"url(#paee190ca1d)\" d=\"M 308.458125 228.439219 \r\nL 308.458125 227.589844 \r\nL 308.458125 11.848594 \r\nL 308.458125 10.999219 \r\nL 319.330125 10.999219 \r\nL 319.330125 11.848594 \r\nL 319.330125 227.589844 \r\nL 319.330125 228.439219 \r\nz\r\n\" style=\"fill:#ffffff;stroke:#ffffff;stroke-linejoin:miter;stroke-width:0.01;\"/>\r\n   </g>\r\n   <image height=\"218\" id=\"imagedfda4b6274\" transform=\"scale(1 -1)translate(0 -218)\" width=\"11\" x=\"308\" xlink:href=\"data:image/png;base64,\r\niVBORw0KGgoAAAANSUhEUgAAAAsAAADaCAYAAABwzrisAAAABHNCSVQICAgIfAhkiAAAAVFJREFUaIHt2TFuxDAMRFHJVi6R+98zqdPpFR9ggmxNDD6HY1lL7/Px+bUuf2fvfVurxatSfqT43U+F8dcbpAkSc+czuiHFnRuZsrkxpMFw3COYw/D/wgkOcSM8+c26+5+Fn5S7cXcYXfhL6yrlYxEFjDHjBuWSeQSGhf/670HsBhRbg4QhbnQNmhvZBG3cMzBCN8Js3Euf02F8AUZ5FADGmzFjg511kg14CEtmwXik+KUGMwy4MJYYDxxJ2KAomxumLNmAo9+Uh7jxUIPEDI+3WifKxGxuEEZVvEj5zMB44LIdKsMlImReoowYovzCtoeUsbjC2HDjOEt2X50bO3NjvfcbjnAonc9mnbmR5VnWhqYMCy0dinwiCbPRjbs7N7JiCtK5vxaUDYbjlgaHMM9wY+/uNTHEjY8RGPahWYYyJfwzXkDkxn+DPzDuG5Td3voGAh4tJcMlfBkAAAAASUVORK5CYII=\" y=\"-10\"/>\r\n   <g id=\"matplotlib.axis_3\"/>\r\n   <g id=\"matplotlib.axis_4\">\r\n    <g id=\"ytick_12\">\r\n     <g id=\"line2d_23\">\r\n      <defs>\r\n       <path d=\"M 0 0 \r\nL 3.5 0 \r\n\" id=\"mbc5c5933c8\" style=\"stroke:#000000;stroke-width:0.8;\"/>\r\n      </defs>\r\n      <g>\r\n       <use style=\"stroke:#000000;stroke-width:0.8;\" x=\"319.330125\" xlink:href=\"#mbc5c5933c8\" y=\"191.312083\"/>\r\n      </g>\r\n     </g>\r\n     <g id=\"text_23\">\r\n      <!-- 0.2 -->\r\n      <defs>\r\n       <path d=\"M 31.78125 66.40625 \r\nQ 24.171875 66.40625 20.328125 58.90625 \r\nQ 16.5 51.421875 16.5 36.375 \r\nQ 16.5 21.390625 20.328125 13.890625 \r\nQ 24.171875 6.390625 31.78125 6.390625 \r\nQ 39.453125 6.390625 43.28125 13.890625 \r\nQ 47.125 21.390625 47.125 36.375 \r\nQ 47.125 51.421875 43.28125 58.90625 \r\nQ 39.453125 66.40625 31.78125 66.40625 \r\nz\r\nM 31.78125 74.21875 \r\nQ 44.046875 74.21875 50.515625 64.515625 \r\nQ 56.984375 54.828125 56.984375 36.375 \r\nQ 56.984375 17.96875 50.515625 8.265625 \r\nQ 44.046875 -1.421875 31.78125 -1.421875 \r\nQ 19.53125 -1.421875 13.0625 8.265625 \r\nQ 6.59375 17.96875 6.59375 36.375 \r\nQ 6.59375 54.828125 13.0625 64.515625 \r\nQ 19.53125 74.21875 31.78125 74.21875 \r\nz\r\n\" id=\"DejaVuSans-48\"/>\r\n       <path d=\"M 10.6875 12.40625 \r\nL 21 12.40625 \r\nL 21 0 \r\nL 10.6875 0 \r\nz\r\n\" id=\"DejaVuSans-46\"/>\r\n      </defs>\r\n      <g transform=\"translate(326.330125 195.111302)scale(0.1 -0.1)\">\r\n       <use xlink:href=\"#DejaVuSans-48\"/>\r\n       <use x=\"63.623047\" xlink:href=\"#DejaVuSans-46\"/>\r\n       <use x=\"95.410156\" xlink:href=\"#DejaVuSans-50\"/>\r\n      </g>\r\n     </g>\r\n    </g>\r\n    <g id=\"ytick_13\">\r\n     <g id=\"line2d_24\">\r\n      <g>\r\n       <use style=\"stroke:#000000;stroke-width:0.8;\" x=\"319.330125\" xlink:href=\"#mbc5c5933c8\" y=\"146.233867\"/>\r\n      </g>\r\n     </g>\r\n     <g id=\"text_24\">\r\n      <!-- 0.4 -->\r\n      <g transform=\"translate(326.330125 150.033086)scale(0.1 -0.1)\">\r\n       <use xlink:href=\"#DejaVuSans-48\"/>\r\n       <use x=\"63.623047\" xlink:href=\"#DejaVuSans-46\"/>\r\n       <use x=\"95.410156\" xlink:href=\"#DejaVuSans-52\"/>\r\n      </g>\r\n     </g>\r\n    </g>\r\n    <g id=\"ytick_14\">\r\n     <g id=\"line2d_25\">\r\n      <g>\r\n       <use style=\"stroke:#000000;stroke-width:0.8;\" x=\"319.330125\" xlink:href=\"#mbc5c5933c8\" y=\"101.155651\"/>\r\n      </g>\r\n     </g>\r\n     <g id=\"text_25\">\r\n      <!-- 0.6 -->\r\n      <g transform=\"translate(326.330125 104.95487)scale(0.1 -0.1)\">\r\n       <use xlink:href=\"#DejaVuSans-48\"/>\r\n       <use x=\"63.623047\" xlink:href=\"#DejaVuSans-46\"/>\r\n       <use x=\"95.410156\" xlink:href=\"#DejaVuSans-54\"/>\r\n      </g>\r\n     </g>\r\n    </g>\r\n    <g id=\"ytick_15\">\r\n     <g id=\"line2d_26\">\r\n      <g>\r\n       <use style=\"stroke:#000000;stroke-width:0.8;\" x=\"319.330125\" xlink:href=\"#mbc5c5933c8\" y=\"56.077435\"/>\r\n      </g>\r\n     </g>\r\n     <g id=\"text_26\">\r\n      <!-- 0.8 -->\r\n      <defs>\r\n       <path d=\"M 31.78125 34.625 \r\nQ 24.75 34.625 20.71875 30.859375 \r\nQ 16.703125 27.09375 16.703125 20.515625 \r\nQ 16.703125 13.921875 20.71875 10.15625 \r\nQ 24.75 6.390625 31.78125 6.390625 \r\nQ 38.8125 6.390625 42.859375 10.171875 \r\nQ 46.921875 13.96875 46.921875 20.515625 \r\nQ 46.921875 27.09375 42.890625 30.859375 \r\nQ 38.875 34.625 31.78125 34.625 \r\nz\r\nM 21.921875 38.8125 \r\nQ 15.578125 40.375 12.03125 44.71875 \r\nQ 8.5 49.078125 8.5 55.328125 \r\nQ 8.5 64.0625 14.71875 69.140625 \r\nQ 20.953125 74.21875 31.78125 74.21875 \r\nQ 42.671875 74.21875 48.875 69.140625 \r\nQ 55.078125 64.0625 55.078125 55.328125 \r\nQ 55.078125 49.078125 51.53125 44.71875 \r\nQ 48 40.375 41.703125 38.8125 \r\nQ 48.828125 37.15625 52.796875 32.3125 \r\nQ 56.78125 27.484375 56.78125 20.515625 \r\nQ 56.78125 9.90625 50.3125 4.234375 \r\nQ 43.84375 -1.421875 31.78125 -1.421875 \r\nQ 19.734375 -1.421875 13.25 4.234375 \r\nQ 6.78125 9.90625 6.78125 20.515625 \r\nQ 6.78125 27.484375 10.78125 32.3125 \r\nQ 14.796875 37.15625 21.921875 38.8125 \r\nz\r\nM 18.3125 54.390625 \r\nQ 18.3125 48.734375 21.84375 45.5625 \r\nQ 25.390625 42.390625 31.78125 42.390625 \r\nQ 38.140625 42.390625 41.71875 45.5625 \r\nQ 45.3125 48.734375 45.3125 54.390625 \r\nQ 45.3125 60.0625 41.71875 63.234375 \r\nQ 38.140625 66.40625 31.78125 66.40625 \r\nQ 25.390625 66.40625 21.84375 63.234375 \r\nQ 18.3125 60.0625 18.3125 54.390625 \r\nz\r\n\" id=\"DejaVuSans-56\"/>\r\n      </defs>\r\n      <g transform=\"translate(326.330125 59.876654)scale(0.1 -0.1)\">\r\n       <use xlink:href=\"#DejaVuSans-48\"/>\r\n       <use x=\"63.623047\" xlink:href=\"#DejaVuSans-46\"/>\r\n       <use x=\"95.410156\" xlink:href=\"#DejaVuSans-56\"/>\r\n      </g>\r\n     </g>\r\n    </g>\r\n    <g id=\"ytick_16\">\r\n     <g id=\"line2d_27\">\r\n      <g>\r\n       <use style=\"stroke:#000000;stroke-width:0.8;\" x=\"319.330125\" xlink:href=\"#mbc5c5933c8\" y=\"10.999219\"/>\r\n      </g>\r\n     </g>\r\n     <g id=\"text_27\">\r\n      <!-- 1.0 -->\r\n      <g transform=\"translate(326.330125 14.798437)scale(0.1 -0.1)\">\r\n       <use xlink:href=\"#DejaVuSans-49\"/>\r\n       <use x=\"63.623047\" xlink:href=\"#DejaVuSans-46\"/>\r\n       <use x=\"95.410156\" xlink:href=\"#DejaVuSans-48\"/>\r\n      </g>\r\n     </g>\r\n    </g>\r\n   </g>\r\n   <g id=\"patch_4\">\r\n    <path d=\"M 308.458125 228.439219 \r\nL 308.458125 227.589844 \r\nL 308.458125 11.848594 \r\nL 308.458125 10.999219 \r\nL 319.330125 10.999219 \r\nL 319.330125 11.848594 \r\nL 319.330125 227.589844 \r\nL 319.330125 228.439219 \r\nz\r\n\" style=\"fill:none;\"/>\r\n   </g>\r\n  </g>\r\n </g>\r\n <defs>\r\n  <clipPath id=\"p6906ad2572\">\r\n   <rect height=\"217.44\" width=\"267.84\" x=\"23.878125\" y=\"10.999219\"/>\r\n  </clipPath>\r\n  <clipPath id=\"paee190ca1d\">\r\n   <rect height=\"217.44\" width=\"10.872\" x=\"308.458125\" y=\"10.999219\"/>\r\n  </clipPath>\r\n </defs>\r\n</svg>\r\n",
      "image/png": "[encoded data removed]"
     },
     "metadata": {
      "needs_background": "light"
     }
    },
    {
     "output_type": "stream",
     "name": "stdout",
     "text": "Feature bmi has the largest correlation with target feature, the correlation is 0.586450134474689\n"
    }
   ],
   "source": [
    "from sklearn import datasets, linear_model\n",
    "\n",
    "diabetes = datasets.load_diabetes()                                 # load the diabetes dataset\n",
    "data = pd.DataFrame(diabetes.data, columns=diabetes.feature_names)  # make diabetes dataframe, specify col names\n",
    "target = pd.DataFrame(diabetes.target, columns=[\"target\"])          # target col is variable we wish to predict from data\n",
    "df = pd.concat([data,target], axis=1)                               # concatenate data and target into one dataframe\n",
    "\n",
    "corr = df.corr()                                                    # Calculate the correlation between x and y.\n",
    "corr_abs=corr.abs()                                                 # get the absolute value of correlation\n",
    "sns.heatmap(corr_abs,       \n",
    "            xticklabels=corr.columns.values,\n",
    "            yticklabels=corr.columns.values)                        # create correlation heat map\n",
    "plt.show()\n",
    "\n",
    "corr_array = np.array(corr[\"target\"])[:-1]\n",
    "corr_abs_array = np.array(corr_abs[\"target\"])[:-1]\n",
    "i = np.argmax(corr_abs_array)\n",
    "feature = corr.columns[i]\n",
    "print('Feature', feature, 'has the largest correlation with target feature, the correlation is', corr_array[i])"
   ]
  },
  {
   "cell_type": "markdown",
   "metadata": {},
   "source": [
    "### Conclusion and Further Resources\n",
    "We have only just scratched the surface with these very powerful modules! Try to get familiar with the features covered here, and for those of you interested in seeing more examples, we strongly advise you to look at the following resource: https://jakevdp.github.io/PythonDataScienceHandbook/\n"
   ]
  },
  {
   "cell_type": "code",
   "execution_count": null,
   "metadata": {},
   "outputs": [],
   "source": []
  }
 ],
 "metadata": {
  "kernelspec": {
   "display_name": "Python 3.7.6 64-bit ('base': conda)",
   "language": "python",
   "name": "python37664bitbaseconda125f57d95ca24b4592521a172c8f2db1"
  },
  "language_info": {
   "codemirror_mode": {
    "name": "ipython",
    "version": 3
   },
   "file_extension": ".py",
   "mimetype": "text/x-python",
   "name": "python",
   "nbconvert_exporter": "python",
   "pygments_lexer": "ipython3",
   "version": "3.7.6-final"
  }
 },
 "nbformat": 4,
 "nbformat_minor": 2
}